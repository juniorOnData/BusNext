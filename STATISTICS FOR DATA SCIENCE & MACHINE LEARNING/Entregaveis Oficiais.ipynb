{
 "cells": [
  {
   "cell_type": "markdown",
   "metadata": {
    "application/vnd.databricks.v1+cell": {
     "cellMetadata": {},
     "inputWidgets": {},
     "nuid": "02241fa7-9242-4699-99fe-dbe9505276b3",
     "showTitle": false,
     "tableResultSettingsMap": {},
     "title": ""
    }
   },
   "source": [
    "* DATASET: Apresentar dados que serão utilizados na soluçao.\n",
    "\n",
    "* ANÁLISE: Planejar e gerar as análises que serão realizadas com os dados propostos em código python.\n",
    "\n",
    "* INSIGHT: Apresentar resultados (em forma de listagem e/ou gráfico) e gerar insights relacionados a solução proposta. Os insights deverão ser disponibilizados como comentários no arquivo, logo após o resultado. Considere que os insights precisam ser bem compreendidos. Portanto, explique bem seus insights.\n",
    " "
   ]
  },
  {
   "cell_type": "code",
   "execution_count": 0,
   "metadata": {
    "application/vnd.databricks.v1+cell": {
     "cellMetadata": {
      "byteLimit": 2048000,
      "rowLimit": 10000
     },
     "inputWidgets": {},
     "nuid": "bd11e097-f74f-4851-b3d8-8fa0fb4cd003",
     "showTitle": false,
     "tableResultSettingsMap": {},
     "title": ""
    }
   },
   "outputs": [],
   "source": [
    "from pyspark.sql.functions import *\n",
    "from pyspark.sql.types import DateType\n",
    "import pandas as pd\n",
    "import numpy as np\n",
    "from sklearn.cluster import KMeans\n",
    "import matplotlib.pyplot as plt\n",
    "import seaborn as sns"
   ]
  },
  {
   "cell_type": "code",
   "execution_count": 0,
   "metadata": {
    "application/vnd.databricks.v1+cell": {
     "cellMetadata": {
      "byteLimit": 2048000,
      "rowLimit": 10000
     },
     "inputWidgets": {},
     "nuid": "c05f7a8f-1e59-4901-b71b-b78b894abf86",
     "showTitle": false,
     "tableResultSettingsMap": {},
     "title": ""
    }
   },
   "outputs": [],
   "source": [
    "df_ota_bus_ticket_sales = spark.table(\"bus.bronze.ota_bus_ticket_sales\")\n",
    "\n",
    "df_ota_bus_ticket_sales = df_ota_bus_ticket_sales.withColumn(\"year_purchase\", year(col(\"date_purchase\"))) \\\n",
    "                   .withColumn(\"month_purchase\", month(col(\"date_purchase\"))) \\\n",
    "                   .withColumn(\"day_of_week_purchase\", dayofweek(col(\"date_purchase\")))"
   ]
  },
  {
   "cell_type": "code",
   "execution_count": 0,
   "metadata": {
    "application/vnd.databricks.v1+cell": {
     "cellMetadata": {
      "byteLimit": 2048000,
      "rowLimit": 10000
     },
     "inputWidgets": {},
     "nuid": "b1242f59-c736-4874-a4ed-032aac23bf1c",
     "showTitle": true,
     "tableResultSettingsMap": {},
     "title": "Análise exploratória"
    }
   },
   "outputs": [],
   "source": [
    "print(\"Informações gerais:\")\n",
    "df_ota_bus_ticket_sales.printSchema()"
   ]
  },
  {
   "cell_type": "code",
   "execution_count": 0,
   "metadata": {
    "application/vnd.databricks.v1+cell": {
     "cellMetadata": {
      "byteLimit": 2048000,
      "rowLimit": 10000
     },
     "inputWidgets": {},
     "nuid": "8574ef30-d4ec-44d0-9a72-ae18f4f5172d",
     "showTitle": true,
     "tableResultSettingsMap": {},
     "title": "Estatísticas descritivas"
    }
   },
   "outputs": [],
   "source": [
    "print(\"\\nEstatísticas descritivas:\")\n",
    "display(df_ota_bus_ticket_sales.describe())"
   ]
  },
  {
   "cell_type": "code",
   "execution_count": 0,
   "metadata": {
    "application/vnd.databricks.v1+cell": {
     "cellMetadata": {
      "byteLimit": 2048000,
      "rowLimit": 10000
     },
     "inputWidgets": {},
     "nuid": "b943db6c-812a-4453-8833-87219a869bbd",
     "showTitle": true,
     "tableResultSettingsMap": {},
     "title": "Distribuição dos valores de compras"
    }
   },
   "outputs": [],
   "source": [
    "df_pandas = df_ota_bus_ticket_sales.select(\"gmv_success\").toPandas()\n",
    "plt.figure(figsize=(10, 5))\n",
    "sns.histplot(df_pandas[\"gmv_success\"])\n",
    "plt.xlabel(\"Valor das compras R$\")\n",
    "plt.ylabel(\"Frequência de compras\")\n",
    "plt.title(\"Distribuição dos valores de compras\")\n",
    "display(plt.gcf())\n",
    "plt.clf()"
   ]
  },
  {
   "cell_type": "code",
   "execution_count": 0,
   "metadata": {
    "application/vnd.databricks.v1+cell": {
     "cellMetadata": {},
     "inputWidgets": {},
     "nuid": "dac95439-c393-464b-9cae-f42c539e9612",
     "showTitle": true,
     "tableResultSettingsMap": {},
     "title": "Distribuição de gastos"
    }
   },
   "outputs": [],
   "source": [
    "df_pandas = df_ota_bus_ticket_sales.select(\"gmv_success\").toPandas()\n",
    "plt.figure(figsize=(10, 5))\n",
    "sns.histplot(df_pandas[\"gmv_success\"])\n",
    "plt.xlabel(\"Valor das compras R$\")\n",
    "plt.ylabel(\"Frequência de compras\")\n",
    "plt.title(\"Distribuição dos valores de compras\")\n",
    "display(plt.gcf())\n",
    "plt.clf()\n",
    "\n",
    "# EIXO X VAI SER O PERÍODO PARA ANALISAR A DISTRIBUIÇÃO DE GASTOS HISTÓRICOS"
   ]
  },
  {
   "cell_type": "code",
   "execution_count": 0,
   "metadata": {
    "application/vnd.databricks.v1+cell": {
     "cellMetadata": {
      "byteLimit": 2048000,
      "rowLimit": 10000
     },
     "inputWidgets": {},
     "nuid": "430bc52a-d847-4072-ba3f-32bda50447a7",
     "showTitle": true,
     "tableResultSettingsMap": {},
     "title": "Destinos mais comuns"
    }
   },
   "outputs": [],
   "source": [
    "top_destinos = df_ota_bus_ticket_sales.groupBy(\"place_destination_departure\").count().orderBy(col(\"count\").desc()).limit(10)\n",
    "top_destinos_pandas = top_destinos.toPandas()\n",
    "plt.figure(figsize=(10, 5))\n",
    "sns.barplot(x=top_destinos_pandas[\"count\"], y=top_destinos_pandas[\"place_destination_departure\"])\n",
    "plt.title(\"Top 10 destinos mais procurados\")\n",
    "display(plt.gcf())\n",
    "plt.clf()"
   ]
  },
  {
   "cell_type": "code",
   "execution_count": 0,
   "metadata": {
    "application/vnd.databricks.v1+cell": {
     "cellMetadata": {
      "byteLimit": 2048000,
      "implicitDf": true,
      "rowLimit": 10000
     },
     "inputWidgets": {},
     "nuid": "0a690193-3cf5-4cc0-931a-41036255b738",
     "showTitle": false,
     "tableResultSettingsMap": {
      "0": {
       "dataGridStateBlob": "{\"version\":1,\"tableState\":{\"columnPinning\":{\"left\":[\"#row_number#\"],\"right\":[]},\"columnSizing\":{\"gmv_success\":145},\"columnVisibility\":{}},\"settings\":{\"columns\":{}},\"syncTimestamp\":1756518397037}",
       "filterBlob": null,
       "queryPlanFiltersBlob": null,
       "tableResultIndex": 0
      }
     },
     "title": ""
    }
   },
   "outputs": [
    {
     "output_type": "display_data",
     "data": {
      "text/plain": [
       "Databricks visualization. Run in Databricks to view."
      ]
     },
     "metadata": {
      "application/vnd.databricks.v1.subcommand+json": {
       "baseErrorDetails": null,
       "bindings": {},
       "collapsed": false,
       "command": "%sql WITH q AS (select\n  date_purchase,\n  place_destination_departure,\n  count(distinct nk_ota_localizer_id) as qtd,\n  sum(gmv_success) as gmv_success\nfrom\n  bus.gold.ota_bus_ticket_sales\ngroup by\n  all\norder by\n  qtd desc) SELECT DATE_TRUNC('MONTH',`date_purchase`) `column_11839279710`,SUM(`qtd`) `column_11839279699` FROM q GROUP BY `column_11839279710`",
       "commandTitle": "Distribuição mensal",
       "commandType": "auto",
       "commandVersion": 0,
       "commentThread": [],
       "commentsVisible": false,
       "contentSha256Hex": null,
       "customPlotOptions": {
        "redashChart": [
         {
          "key": "type",
          "value": "CHART"
         },
         {
          "key": "options",
          "value": {
           "alignYAxesAtZero": true,
           "coefficient": 1,
           "columnConfigurationMap": {
            "x": {
             "column": "date_purchase",
             "id": "column_11839279710",
             "transform": "MONTH_LEVEL"
            },
            "y": [
             {
              "column": "qtd",
              "id": "column_11839279699",
              "transform": "SUM"
             }
            ]
           },
           "dateTimeFormat": "DD/MM/YYYY HH:mm",
           "direction": {
            "type": "counterclockwise"
           },
           "error_y": {
            "type": "data",
            "visible": true
           },
           "globalSeriesType": "line",
           "isAggregationOn": true,
           "legend": {
            "traceorder": "normal"
           },
           "missingValuesAsZero": true,
           "numberFormat": "0,0.[00000]",
           "percentFormat": "0[.]00%",
           "series": {
            "error_y": {
             "type": "data",
             "visible": true
            },
            "percentValues": false,
            "stacking": null
           },
           "seriesOptions": {
            "column_11839279699": {
             "color": "#00A972",
             "type": "line",
             "yAxis": 0
            }
           },
           "showDataLabels": false,
           "sizemode": "diameter",
           "sortX": true,
           "sortY": true,
           "swappedAxes": false,
           "textFormat": "",
           "useAggregationsUi": true,
           "valuesOptions": {},
           "version": 2,
           "xAxis": {
            "labels": {
             "enabled": true
            },
            "type": "-"
           },
           "yAxis": [
            {
             "type": "-"
            },
            {
             "opposite": true,
             "type": "-"
            }
           ]
          }
         }
        ]
       },
       "datasetPreviewNameToCmdIdMap": {},
       "diffDeletes": [],
       "diffInserts": [],
       "displayType": "redashChart",
       "error": null,
       "errorDetails": null,
       "errorSummary": null,
       "errorTraceType": null,
       "finishTime": 1756519068818,
       "globalVars": {},
       "guid": "",
       "height": "auto",
       "hideCommandCode": false,
       "hideCommandResult": false,
       "iPythonMetadata": null,
       "inputWidgets": {},
       "isLockedInExamMode": false,
       "latestUser": "a user",
       "latestUserId": null,
       "listResultMetadata": [
        [
         "table",
         68
        ]
       ],
       "metadata": {
        "byteLimit": 2048000,
        "implicitDf": true,
        "rowLimit": 10000
       },
       "nuid": "01b4de35-c718-4eea-97a0-2bf79a8e5192",
       "origId": 0,
       "parentHierarchy": [],
       "pivotAggregation": null,
       "pivotColumns": null,
       "position": 3.953125,
       "resultDbfsErrorMessage": null,
       "resultDbfsStatus": "INLINED_IN_TREE",
       "results": null,
       "showCommandTitle": false,
       "startTime": 1756519066776,
       "state": "input",
       "streamStates": {},
       "subcommandOptions": {
        "queryPlan": {
         "groups": [
          {
           "column": "column_11839279710",
           "type": "column"
          }
         ],
         "selects": [
          {
           "alias": "column_11839279710",
           "args": [
            {
             "column": "date_purchase",
             "type": "column"
            },
            {
             "string": "MONTH",
             "type": "string"
            }
           ],
           "function": "DATE_TRUNC",
           "type": "function"
          },
          {
           "alias": "column_11839279699",
           "args": [
            {
             "column": "qtd",
             "type": "column"
            }
           ],
           "function": "SUM",
           "type": "function"
          }
         ]
        }
       },
       "submitTime": 1756519066740,
       "subtype": "tableResultSubCmd.visualization",
       "tableResultIndex": 0,
       "tableResultSettingsMap": {},
       "useConsistentColors": false,
       "version": "CommandV1",
       "width": "auto",
       "workflows": null,
       "xColumns": null,
       "yColumns": null
      }
     },
     "output_type": "display_data"
    }
   ],
   "source": [
    "%sql\n",
    "select\n",
    "  date_purchase,\n",
    "  place_destination_departure,\n",
    "  count(distinct nk_ota_localizer_id) as qtd,\n",
    "  sum(gmv_success) as gmv_success\n",
    "from\n",
    "  bus.gold.ota_bus_ticket_sales\n",
    "group by\n",
    "  all\n",
    "order by\n",
    "  qtd desc;\n"
   ]
  },
  {
   "cell_type": "code",
   "execution_count": 0,
   "metadata": {
    "application/vnd.databricks.v1+cell": {
     "cellMetadata": {},
     "inputWidgets": {},
     "nuid": "72b0a81a-8456-4b84-be21-5182f2ec2330",
     "showTitle": true,
     "tableResultSettingsMap": {},
     "title": "Destinos mais procurados"
    }
   },
   "outputs": [],
   "source": [
    "top_destinos = df_ota_bus_ticket_sales.groupBy(\"place_destination_departure\").count().orderBy(col(\"count\").desc()).limit(10)\n",
    "top_destinos_pandas = top_destinos.toPandas()\n",
    "plt.figure(figsize=(10, 5))\n",
    "sns.barplot(x=top_destinos_pandas[\"count\"], y=top_destinos_pandas[\"place_destination_departure\"])\n",
    "plt.title(\"Top 10 destinos mais procurados\")\n",
    "display(plt.gcf())\n",
    "plt.clf()"
   ]
  },
  {
   "cell_type": "code",
   "execution_count": 0,
   "metadata": {
    "application/vnd.databricks.v1+cell": {
     "cellMetadata": {
      "byteLimit": 2048000,
      "rowLimit": 10000
     },
     "inputWidgets": {},
     "nuid": "1529b529-57b6-4aed-8112-2796c0aa6c5d",
     "showTitle": true,
     "tableResultSettingsMap": {},
     "title": "Estatísticas por cliente"
    }
   },
   "outputs": [],
   "source": [
    "from pyspark.sql.functions import max, count, col, lit, datediff\n",
    "\n",
    "clientes = df_ota_bus_ticket_sales.groupBy(\"fk_contact\").agg(\n",
    "    max(\"gmv_success\").alias(\"total_gasto\"),\n",
    "    count(\"nk_ota_localizer_id\").alias(\"qtd_compras\"),\n",
    "    max(\"date_purchase\").alias(\"ultima_compra\")\n",
    ")\n",
    "\n",
    "max_date = df_ota_bus_ticket_sales.select(\n",
    "    max(\"date_purchase\")\n",
    ").collect()[0][0]\n",
    "\n",
    "clientes = clientes.withColumn(\n",
    "    \"recencia\",\n",
    "    datediff(\n",
    "        lit(max_date),\n",
    "        col(\"ultima_compra\")\n",
    "    )\n",
    ")\n",
    "\n",
    "rfm = clientes.select(\n",
    "    \"recencia\",\n",
    "    \"qtd_compras\",\n",
    "    \"total_gasto\"\n",
    ").toPandas()\n",
    "\n",
    "rfm_norm = (rfm - rfm.min()) / (rfm.max() - rfm.min())"
   ]
  },
  {
   "cell_type": "code",
   "execution_count": 0,
   "metadata": {
    "application/vnd.databricks.v1+cell": {
     "cellMetadata": {
      "byteLimit": 2048000,
      "rowLimit": 10000
     },
     "inputWidgets": {},
     "nuid": "8feb59ea-fdaa-48f9-b070-1927fb06ce7f",
     "showTitle": true,
     "tableResultSettingsMap": {},
     "title": "Aplicação KMeans"
    }
   },
   "outputs": [],
   "source": [
    "kmeans = KMeans(n_clusters=4, random_state=42)\n",
    "rfm[\"cluster\"] = kmeans.fit_predict(rfm_norm)\n",
    "\n",
    "plt.figure(figsize=(10, 5))\n",
    "sns.scatterplot(data=rfm, x=\"qtd_compras\", y=\"total_gasto\", hue=\"cluster\", palette=\"tab10\")\n",
    "plt.title(\"Clusterização de Clientes (Frequência x Gasto)\")\n",
    "display(plt.gcf())\n",
    "plt.clf()\n",
    "\n",
    "rfm[\"fk_contact\"] = clientes.select(\"fk_contact\").toPandas()\n",
    "print(\"\\nResumo dos clusters:\")\n",
    "rfm_grouped = rfm.groupby(\"cluster\").agg({\n",
    "    \"qtd_compras\": \"mean\",\n",
    "    \"total_gasto\": \"mean\",\n",
    "    \"recencia\": \"mean\",\n",
    "    \"fk_contact\": \"count\"\n",
    "})\n",
    "display(rfm_grouped)"
   ]
  }
 ],
 "metadata": {
  "application/vnd.databricks.v1+notebook": {
   "computePreferences": {
    "hardware": {
     "accelerator": null,
     "gpuPoolId": null,
     "memory": null
    }
   },
   "dashboards": [],
   "environmentMetadata": {
    "base_environment": "",
    "environment_version": "3"
   },
   "inputWidgetPreferences": null,
   "language": "python",
   "notebookMetadata": {
    "mostRecentlyExecutedCommandWithImplicitDF": {
     "commandId": 5067923517897326,
     "dataframes": [
      "_sqldf"
     ]
    },
    "pythonIndentUnit": 4
   },
   "notebookName": "Entregaveis Oficiais",
   "widgets": {}
  },
  "language_info": {
   "name": "python"
  }
 },
 "nbformat": 4,
 "nbformat_minor": 0
}
