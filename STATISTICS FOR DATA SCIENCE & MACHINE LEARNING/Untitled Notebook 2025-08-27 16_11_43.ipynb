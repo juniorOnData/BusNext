{
 "cells": [
  {
   "cell_type": "code",
   "execution_count": 0,
   "metadata": {
    "application/vnd.databricks.v1+cell": {
     "cellMetadata": {
      "byteLimit": 2048000,
      "rowLimit": 10000
     },
     "inputWidgets": {},
     "nuid": "a55ce1e6-0488-427f-95c4-5121f515e232",
     "showTitle": false,
     "tableResultSettingsMap": {},
     "title": ""
    }
   },
   "outputs": [],
   "source": [
    "from pyspark.sql import SparkSession\n",
    "from pyspark.sql.functions import col, to_date, year, month, dayofweek, datediff, max as spark_max\n",
    "from pyspark.sql.types import DateType\n",
    "import pandas as pd\n",
    "import numpy as np\n",
    "from sklearn.cluster import KMeans\n",
    "import matplotlib.pyplot as plt\n",
    "import seaborn as sns"
   ]
  },
  {
   "cell_type": "code",
   "execution_count": 0,
   "metadata": {
    "application/vnd.databricks.v1+cell": {
     "cellMetadata": {
      "byteLimit": 2048000,
      "rowLimit": 10000
     },
     "inputWidgets": {},
     "nuid": "3850d9c4-3c17-42b3-a26c-b66bd9c2b8f5",
     "showTitle": false,
     "tableResultSettingsMap": {},
     "title": ""
    }
   },
   "outputs": [],
   "source": [
    "# Inicializar SparkSession\n",
    "# spark = SparkSession.builder.appName(\"RFMAnalysis\").getOrCreate()"
   ]
  },
  {
   "cell_type": "code",
   "execution_count": 0,
   "metadata": {
    "application/vnd.databricks.v1+cell": {
     "cellMetadata": {
      "byteLimit": 2048000,
      "rowLimit": 10000
     },
     "inputWidgets": {},
     "nuid": "5cf2f509-82d8-48e9-a0c6-b6c355cd3365",
     "showTitle": false,
     "tableResultSettingsMap": {},
     "title": ""
    }
   },
   "outputs": [],
   "source": [
    "# Carregar dados\n",
    "df_spark = spark.table(\"bus.bronze.ota_bus_ticket_sales\")"
   ]
  },
  {
   "cell_type": "code",
   "execution_count": 0,
   "metadata": {
    "application/vnd.databricks.v1+cell": {
     "cellMetadata": {
      "byteLimit": 2048000,
      "rowLimit": 10000
     },
     "inputWidgets": {},
     "nuid": "2c873ae7-29dd-4576-82e3-da6f99559734",
     "showTitle": false,
     "tableResultSettingsMap": {},
     "title": ""
    }
   },
   "outputs": [],
   "source": [
    "# Converter a coluna de data para o tipo Date\n",
    "df_spark = df_spark.withColumn(\"date_purchase\", to_date(col(\"date_purchase\")))"
   ]
  },
  {
   "cell_type": "code",
   "execution_count": 0,
   "metadata": {
    "application/vnd.databricks.v1+cell": {
     "cellMetadata": {
      "byteLimit": 2048000,
      "rowLimit": 10000
     },
     "inputWidgets": {},
     "nuid": "4ce0eeb1-16d7-4ecf-b63d-d998fe7475dd",
     "showTitle": false,
     "tableResultSettingsMap": {},
     "title": ""
    }
   },
   "outputs": [],
   "source": [
    "# Criar colunas derivadas\n",
    "df_spark = df_spark.withColumn(\"year\", year(col(\"date_purchase\"))) \\\n",
    "                   .withColumn(\"month\", month(col(\"date_purchase\"))) \\\n",
    "                   .withColumn(\"day_of_week\", dayofweek(col(\"date_purchase\")))"
   ]
  },
  {
   "cell_type": "code",
   "execution_count": 0,
   "metadata": {
    "application/vnd.databricks.v1+cell": {
     "cellMetadata": {
      "byteLimit": 2048000,
      "rowLimit": 10000
     },
     "inputWidgets": {},
     "nuid": "d60873c7-dfea-4b3d-9cc9-ba9611d73cf2",
     "showTitle": false,
     "tableResultSettingsMap": {
      "0": {
       "dataGridStateBlob": "{\"version\":1,\"tableState\":{\"columnPinning\":{\"left\":[\"#row_number#\"],\"right\":[]},\"columnSizing\":{\"time_purchase\":271},\"columnVisibility\":{}},\"settings\":{\"columns\":{}},\"syncTimestamp\":1756434825647}",
       "filterBlob": null,
       "queryPlanFiltersBlob": null,
       "tableResultIndex": 0
      }
     },
     "title": ""
    }
   },
   "outputs": [],
   "source": [
    "# Exibir amostra dos dados\n",
    "print(\"Amostra\")\n",
    "display(df_spark.limit(10))"
   ]
  },
  {
   "cell_type": "code",
   "execution_count": 0,
   "metadata": {
    "application/vnd.databricks.v1+cell": {
     "cellMetadata": {
      "byteLimit": 2048000,
      "rowLimit": 10000
     },
     "inputWidgets": {},
     "nuid": "5f69930c-1953-42d7-b490-882efe19dd1c",
     "showTitle": false,
     "tableResultSettingsMap": {},
     "title": ""
    }
   },
   "outputs": [],
   "source": [
    "# Análise exploratória\n",
    "print(\"Informações gerais:\")\n",
    "df_spark.printSchema()\n",
    "\n",
    "print(\"\\nEstatísticas descritivas:\")\n",
    "display(df_spark.describe())"
   ]
  },
  {
   "cell_type": "code",
   "execution_count": 0,
   "metadata": {
    "application/vnd.databricks.v1+cell": {
     "cellMetadata": {
      "byteLimit": 2048000,
      "rowLimit": 10000
     },
     "inputWidgets": {},
     "nuid": "bfe69962-1496-4e51-a7cc-d50846fc5893",
     "showTitle": false,
     "tableResultSettingsMap": {},
     "title": ""
    }
   },
   "outputs": [],
   "source": [
    "# Distribuição de gastos (usando Pandas para visualização com Matplotlib)\n",
    "df_pandas = df_spark.select(\"gmv_success\").toPandas()\n",
    "plt.figure(figsize=(10, 5))\n",
    "sns.histplot(df_pandas[\"gmv_success\"])\n",
    "plt.xlabel(\"Valor das compras R$\")\n",
    "plt.ylabel(\"Frequência de compras\")\n",
    "plt.title(\"Distribuição dos valores de compras (GMV)\")\n",
    "display(plt.gcf())\n",
    "plt.clf()"
   ]
  },
  {
   "cell_type": "markdown",
   "metadata": {
    "application/vnd.databricks.v1+cell": {
     "cellMetadata": {},
     "inputWidgets": {},
     "nuid": "72e1c415-30f5-4c65-8006-5f0af635c132",
     "showTitle": false,
     "tableResultSettingsMap": {},
     "title": ""
    }
   },
   "source": []
  },
  {
   "cell_type": "code",
   "execution_count": 0,
   "metadata": {
    "application/vnd.databricks.v1+cell": {
     "cellMetadata": {
      "byteLimit": 2048000,
      "rowLimit": 10000
     },
     "inputWidgets": {},
     "nuid": "bd7ac2a3-71d8-4257-a416-2685afcef360",
     "showTitle": false,
     "tableResultSettingsMap": {},
     "title": ""
    }
   },
   "outputs": [],
   "source": [
    "# Destinos mais comuns\n",
    "top_destinos = df_spark.groupBy(\"place_destination_departure\").count().orderBy(col(\"count\").desc()).limit(10)\n",
    "top_destinos_pandas = top_destinos.toPandas()\n",
    "plt.figure(figsize=(10, 5))\n",
    "sns.barplot(x=top_destinos_pandas[\"count\"], y=top_destinos_pandas[\"place_destination_departure\"])\n",
    "plt.title(\"Top 10 destinos mais procurados\")\n",
    "display(plt.gcf())\n",
    "plt.clf()"
   ]
  },
  {
   "cell_type": "code",
   "execution_count": 0,
   "metadata": {
    "application/vnd.databricks.v1+cell": {
     "cellMetadata": {
      "byteLimit": 2048000,
      "rowLimit": 10000
     },
     "inputWidgets": {},
     "nuid": "4d7115b0-1ae9-4063-b058-61559b285ea8",
     "showTitle": false,
     "tableResultSettingsMap": {},
     "title": ""
    }
   },
   "outputs": [],
   "source": [
    "# Estatísticas por cliente\n",
    "from pyspark.sql.functions import max as spark_max, count\n",
    "\n",
    "clientes = df_spark.groupBy(\"fk_contact\").agg(\n",
    "    spark_max(\"gmv_success\").alias(\"total_gasto\"),\n",
    "    count(\"nk_ota_localizer_id\").alias(\"qtd_compras\"),\n",
    "    spark_max(\"date_purchase\").alias(\"ultima_compra\")\n",
    ")\n",
    "display(clientes)\n",
    "\n"
   ]
  },
  {
   "cell_type": "code",
   "execution_count": 0,
   "metadata": {
    "application/vnd.databricks.v1+cell": {
     "cellMetadata": {
      "byteLimit": 2048000,
      "rowLimit": 10000
     },
     "inputWidgets": {},
     "nuid": "22d629a4-eb7c-469d-ae83-28eff86be0a6",
     "showTitle": false,
     "tableResultSettingsMap": {},
     "title": ""
    }
   },
   "outputs": [],
   "source": [
    "from pyspark.sql.functions import datediff, lit\n",
    "\n",
    "clientes = clientes.withColumn(\n",
    "    \"recencia\",\n",
    "    datediff(\n",
    "        lit(max_date),\n",
    "        col(\"ultima_compra\")\n",
    "    )\n",
    ")\n",
    "display(clientes)"
   ]
  },
  {
   "cell_type": "code",
   "execution_count": 0,
   "metadata": {
    "application/vnd.databricks.v1+cell": {
     "cellMetadata": {
      "byteLimit": 2048000,
      "rowLimit": 10000
     },
     "inputWidgets": {},
     "nuid": "396ccdb9-9ce2-4a19-84f0-89c411cc5e01",
     "showTitle": false,
     "tableResultSettingsMap": {},
     "title": ""
    }
   },
   "outputs": [],
   "source": [
    "# Converter para Pandas para aplicar KMeans\n",
    "rfm = clientes.select(\"recencia\", \"qtd_compras\", \"total_gasto\").toPandas()"
   ]
  },
  {
   "cell_type": "code",
   "execution_count": 0,
   "metadata": {
    "application/vnd.databricks.v1+cell": {
     "cellMetadata": {
      "byteLimit": 2048000,
      "rowLimit": 10000
     },
     "inputWidgets": {},
     "nuid": "db9bbeaf-38dd-49c0-bcb9-b5683a8750d6",
     "showTitle": false,
     "tableResultSettingsMap": {},
     "title": ""
    }
   },
   "outputs": [],
   "source": [
    "# Normalização simples\n",
    "rfm_norm = (rfm - rfm.min()) / (rfm.max() - rfm.min())"
   ]
  },
  {
   "cell_type": "code",
   "execution_count": 0,
   "metadata": {
    "application/vnd.databricks.v1+cell": {
     "cellMetadata": {
      "byteLimit": 2048000,
      "rowLimit": 10000
     },
     "inputWidgets": {},
     "nuid": "d46667b3-4fa0-470f-9726-cbe6e76f63de",
     "showTitle": false,
     "tableResultSettingsMap": {},
     "title": ""
    }
   },
   "outputs": [],
   "source": [
    "# Aplicar KMeans\n",
    "kmeans = KMeans(n_clusters=4, random_state=42)\n",
    "rfm[\"cluster\"] = kmeans.fit_predict(rfm_norm)"
   ]
  },
  {
   "cell_type": "code",
   "execution_count": 0,
   "metadata": {
    "application/vnd.databricks.v1+cell": {
     "cellMetadata": {
      "byteLimit": 2048000,
      "rowLimit": 10000
     },
     "inputWidgets": {},
     "nuid": "ea124b14-fabe-4446-b7a9-4a2001a7e00f",
     "showTitle": false,
     "tableResultSettingsMap": {},
     "title": ""
    }
   },
   "outputs": [],
   "source": [
    "# Visualização\n",
    "plt.figure(figsize=(10, 5))\n",
    "sns.scatterplot(data=rfm, x=\"qtd_compras\", y=\"total_gasto\", hue=\"cluster\", palette=\"tab10\")\n",
    "plt.title(\"Clusterização de Clientes (Frequência x Gasto)\")\n",
    "display(plt.gcf())\n",
    "plt.clf()"
   ]
  },
  {
   "cell_type": "code",
   "execution_count": 0,
   "metadata": {
    "application/vnd.databricks.v1+cell": {
     "cellMetadata": {
      "byteLimit": 2048000,
      "rowLimit": 10000
     },
     "inputWidgets": {},
     "nuid": "2222a43c-ade2-48a1-8492-832775ae8727",
     "showTitle": false,
     "tableResultSettingsMap": {},
     "title": ""
    }
   },
   "outputs": [],
   "source": [
    "# Resumo dos clusters\n",
    "rfm[\"fk_contact\"] = clientes.select(\"fk_contact\").toPandas()\n",
    "print(\"\\nResumo dos clusters:\")\n",
    "rfm_grouped = rfm.groupby(\"cluster\").agg({\n",
    "    \"qtd_compras\": \"mean\",\n",
    "    \"total_gasto\": \"mean\",\n",
    "    \"recencia\": \"mean\",\n",
    "    \"fk_contact\": \"count\"\n",
    "})\n",
    "display(rfm_grouped)"
   ]
  }
 ],
 "metadata": {
  "application/vnd.databricks.v1+notebook": {
   "computePreferences": null,
   "dashboards": [],
   "environmentMetadata": {
    "base_environment": "",
    "environment_version": "3"
   },
   "inputWidgetPreferences": null,
   "language": "python",
   "notebookMetadata": {
    "pythonIndentUnit": 4
   },
   "notebookName": "Untitled Notebook 2025-08-27 16_11_43",
   "widgets": {}
  },
  "language_info": {
   "name": "python"
  }
 },
 "nbformat": 4,
 "nbformat_minor": 0
}
