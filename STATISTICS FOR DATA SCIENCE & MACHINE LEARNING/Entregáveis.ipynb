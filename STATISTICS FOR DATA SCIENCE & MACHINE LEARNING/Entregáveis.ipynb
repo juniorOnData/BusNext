{
 "cells": [
  {
   "cell_type": "markdown",
   "metadata": {
    "application/vnd.databricks.v1+cell": {
     "cellMetadata": {},
     "inputWidgets": {},
     "nuid": "3553bae1-2d1a-4dfa-b414-71b0da79959c",
     "showTitle": false,
     "tableResultSettingsMap": {},
     "title": ""
    }
   },
   "source": [
    "* DATASET: Apresentar dados que serão utilizados na soluçao.\n",
    "\n",
    "* ANÁLISE: Planejar e gerar as análises que serão realizadas com os dados propostos em código python.\n",
    "\n",
    "* INSIGHT: Apresentar resultados (em forma de listagem e/ou gráfico) e gerar insights relacionados a solução proposta. Os insights deverão ser disponibilizados como comentários no arquivo, logo após o resultado. Considere que os insights precisam ser bem compreendidos. Portanto, explique bem seus insights.\n",
    " "
   ]
  },
  {
   "cell_type": "code",
   "execution_count": 0,
   "metadata": {
    "application/vnd.databricks.v1+cell": {
     "cellMetadata": {},
     "inputWidgets": {},
     "nuid": "67bf6ee7-6517-45b4-b529-1f922b70ef8f",
     "showTitle": false,
     "tableResultSettingsMap": {},
     "title": ""
    }
   },
   "outputs": [],
   "source": []
  },
  {
   "cell_type": "code",
   "execution_count": 0,
   "metadata": {
    "application/vnd.databricks.v1+cell": {
     "cellMetadata": {
      "byteLimit": 2048000,
      "rowLimit": 10000
     },
     "inputWidgets": {},
     "nuid": "ce816600-d7b5-45bc-90d8-44e8c9886bb9",
     "showTitle": false,
     "tableResultSettingsMap": {},
     "title": ""
    }
   },
   "outputs": [],
   "source": [
    "import pandas as pd\n",
    "import numpy as np\n",
    "import matplotlib.pyplot as plt\n",
    "import seaborn as sns\n",
    "from sklearn.cluster import KMeans\n",
    "from datetime import datetime"
   ]
  },
  {
   "cell_type": "code",
   "execution_count": 0,
   "metadata": {
    "application/vnd.databricks.v1+cell": {
     "cellMetadata": {
      "byteLimit": 2048000,
      "rowLimit": 10000
     },
     "inputWidgets": {},
     "nuid": "7237dc3d-d08b-4e1b-b0cf-f07369d24172",
     "showTitle": false,
     "tableResultSettingsMap": {},
     "title": ""
    }
   },
   "outputs": [],
   "source": [
    "# Configurações visuais\n",
    "#sns.set(style=\"whitegrid\") \n",
    "#plt.rcParams[\"figure.figsize\"] = (10,5)\n",
    "\n",
    "#df = pd.read_csv(\"dados_mockados.csv\")\n",
    "df = spark.table(\"bus.bronze.ota_bus_ticket_sales\")\n",
    "\n",
    "# data para datetime\n",
    "df[\"date_purchase\"] = pd.to_datetime(df[\"date_purchase\"])"
   ]
  },
  {
   "cell_type": "code",
   "execution_count": 0,
   "metadata": {
    "application/vnd.databricks.v1+cell": {
     "cellMetadata": {},
     "inputWidgets": {},
     "nuid": "cd8210da-ee66-4ed9-ae34-4991dbfd9cce",
     "showTitle": false,
     "tableResultSettingsMap": {},
     "title": ""
    }
   },
   "outputs": [],
   "source": [
    "# criar colunas derivadas\n",
    "df[\"year\"] = df[\"date_purchase\"].dt.year\n",
    "df[\"month\"] = df[\"date_purchase\"].dt.month\n",
    "df[\"day_of_week\"] = df[\"date_purchase\"].dt.day_name()\n",
    "print('Amostra')\n",
    "print(df.head(10),'\\n')"
   ]
  },
  {
   "cell_type": "code",
   "execution_count": 0,
   "metadata": {
    "application/vnd.databricks.v1+cell": {
     "cellMetadata": {},
     "inputWidgets": {},
     "nuid": "04c44c05-5761-4ca9-af1c-a729aafef2f5",
     "showTitle": false,
     "tableResultSettingsMap": {},
     "title": ""
    }
   },
   "outputs": [],
   "source": [
    "# análise explorativa\n",
    "print(\"Informações gerais:\")\n",
    "print(df.info())\n",
    "\n",
    "print(\"\\nEstatísticas descritivas:\")\n",
    "print(df.describe())"
   ]
  },
  {
   "cell_type": "code",
   "execution_count": 0,
   "metadata": {
    "application/vnd.databricks.v1+cell": {
     "cellMetadata": {},
     "inputWidgets": {},
     "nuid": "f1091655-9a1a-4a6f-bd01-ebfba0a21712",
     "showTitle": false,
     "tableResultSettingsMap": {},
     "title": ""
    }
   },
   "outputs": [],
   "source": [
    "# distribuição de gastos\n",
    "sns.histplot(df[\"gmv_success\"])\n",
    "plt.xlabel('Valor das compras R$')\n",
    "plt.ylabel('Frequência de compras')\n",
    "plt.title(\"Distribuição dos valores de compras (GMV)\") # Gross Merchandise Value - valor total bruto das vendas realizadas em uma plataforma em determinado período de tempo\n",
    "plt.show()"
   ]
  },
  {
   "cell_type": "code",
   "execution_count": 0,
   "metadata": {
    "application/vnd.databricks.v1+cell": {
     "cellMetadata": {},
     "inputWidgets": {},
     "nuid": "4a54a387-d6f0-4584-8adc-66aaec1dec5c",
     "showTitle": false,
     "tableResultSettingsMap": {},
     "title": ""
    }
   },
   "outputs": [],
   "source": [
    "# destinos mais comuns\n",
    "top_destinos = df[\"place_destination_departure\"].value_counts().head(10)\n",
    "sns.barplot(x=top_destinos.values, y=top_destinos.index)\n",
    "plt.title(\"Top 10 destinos mais procurados\")\n",
    "plt.show()"
   ]
  },
  {
   "cell_type": "code",
   "execution_count": 0,
   "metadata": {
    "application/vnd.databricks.v1+cell": {
     "cellMetadata": {},
     "inputWidgets": {},
     "nuid": "03d8decd-7723-4f51-bfb7-547d1cedb180",
     "showTitle": false,
     "tableResultSettingsMap": {},
     "title": ""
    }
   },
   "outputs": [],
   "source": [
    "# estatísticas por cliente\n",
    "clientes = df.groupby(\"fk_contact\").agg({\n",
    "    \"gmv_success\":\"sum\",\n",
    "    \"nk_ota_localizer_id\":\"count\",\n",
    "    \"date_purchase\":\"max\"\n",
    "}).reset_index()\n",
    "print(\"Estatísticas por cliente:\")\n",
    "print(clientes.describe())\n",
    "# análise de clusters"
   ]
  },
  {
   "cell_type": "code",
   "execution_count": 0,
   "metadata": {
    "application/vnd.databricks.v1+cell": {
     "cellMetadata": {},
     "inputWidgets": {},
     "nuid": "269c04ca-6f04-44ac-b3b0-dccc2a2b413e",
     "showTitle": false,
     "tableResultSettingsMap": {},
     "title": ""
    }
   },
   "outputs": [],
   "source": [
    "clientes.rename(columns={\n",
    "    \"gmv_success\":\"total_gasto\",\n",
    "    \"nk_ota_localizer_id\":\"qtd_compras\",\n",
    "    \"date_purchase\":\"ultima_compra\"\n",
    "}, inplace=True)\n",
    "\n",
    "# recência em dias\n",
    "max_date = df[\"date_purchase\"].max()\n",
    "clientes[\"recencia\"] = (max_date - clientes[\"ultima_compra\"]).dt.days\n",
    "\n",
    "# RFM\n",
    "rfm = clientes[[\"recencia\",\"qtd_compras\",\"total_gasto\"]].copy()\n",
    "\n",
    "# normalização simples\n",
    "rfm_norm = (rfm - rfm.min()) / (rfm.max() - rfm.min())\n",
    "\n",
    "kmeans = KMeans(n_clusters=4, random_state=42)\n",
    "clientes[\"cluster\"] = kmeans.fit_predict(rfm_norm)"
   ]
  },
  {
   "cell_type": "code",
   "execution_count": 0,
   "metadata": {
    "application/vnd.databricks.v1+cell": {
     "cellMetadata": {},
     "inputWidgets": {},
     "nuid": "00ed6b5d-f74f-4b23-bdfa-61de40ba37dd",
     "showTitle": false,
     "tableResultSettingsMap": {},
     "title": ""
    }
   },
   "outputs": [],
   "source": [
    "# visualização\n",
    "sns.scatterplot(data=clientes, x=\"qtd_compras\", y=\"total_gasto\", hue=\"cluster\", palette=\"tab10\")\n",
    "plt.title(\"Clusterização de Clientes (Frequência x Gasto)\")\n",
    "plt.show()\n",
    "\n",
    "print(\"\\nResumo dos clusters:\")\n",
    "print(clientes.groupby(\"cluster\").agg({\n",
    "    \"qtd_compras\":\"mean\",\n",
    "    \"total_gasto\":\"mean\",\n",
    "    \"recencia\":\"mean\",\n",
    "    \"fk_contact\":\"count\"\n",
    "}))"
   ]
  }
 ],
 "metadata": {
  "application/vnd.databricks.v1+notebook": {
   "computePreferences": {
    "hardware": {
     "accelerator": null,
     "gpuPoolId": null,
     "memory": null
    }
   },
   "dashboards": [],
   "environmentMetadata": {
    "base_environment": "",
    "environment_version": "3"
   },
   "inputWidgetPreferences": null,
   "language": "python",
   "notebookMetadata": {
    "pythonIndentUnit": 4
   },
   "notebookName": "Entregáveis",
   "widgets": {}
  },
  "language_info": {
   "name": "python"
  }
 },
 "nbformat": 4,
 "nbformat_minor": 0
}
