{
 "cells": [
  {
   "cell_type": "markdown",
   "metadata": {
    "application/vnd.databricks.v1+cell": {
     "cellMetadata": {},
     "inputWidgets": {},
     "nuid": "537c069c-a95c-4eaa-812e-650f27310582",
     "showTitle": false,
     "tableResultSettingsMap": {},
     "title": ""
    }
   },
   "source": [
    "# ENTREGÁVEIS OFICIAIS:\n",
    "\n",
    "Atendendo aos requisitos de coleta, ingestão, armazenamento, transformação, consumo e orquestração.\n",
    "\n",
    "**1. Uso de ferramenta de ETL ou ingestão (como o PIG, Sqoop, Knime, Data Factory, Glue, Data Fusion ou semelhantes)**\n",
    "\n",
    "- Copie o arquivo com os dados fornecidos pela empresa para o ambiente de armazenamento (data lake) escolhido, ex.: Hadoop HDFS, Google Cloud Storage, Azure Blob Storage, Amazon S3 ou equivalentes.\n",
    "\n",
    "- Carregue os dados do data lake usando a ferramenta de ETL, prepare (limpeza, transformação, extração de campos, etc.) e estruture o arquivo para ser carregado em um ambiente de dados estruturados (Relacional ou Serverless SQL) para consumo. (ex.: Hive, Synapse, BigQuery, Redshift, Athena)\n",
    "Para essa estruturação e preparação utilize PIG, Python, Spark, Glue, Knime, Data Factory ou semelhantes.\n",
    "\n",
    "- Copie o arquivo preparado gerado para o ambiente local. O nome do arquivo deve ter o formato RM9999, onde RM9999 é o número do RM do representante do grupo.\n",
    "\n",
    "- Usando SQOOP faça a carga dos dados preparados e estruturados no item 1.2 para o banco de dados Oracle.\n",
    "\n",
    "- Execute consultas SQL que explorem os dados carregados, por exemplo, contagem de registros, médias por categoria, agrupamentos temporais, filtros complexos.\n",
    "\n",
    "- Elabore um relatório com as decisões técnicas tomadas, dificuldades encontradas, screenshots das etapas resultados obtidos nas análises, conclusões com insights de negócio (ex: padrões, anomalias, oportunidades)\n",
    "\n",
    "- Crie um arquivo PDF com as evidências das operações efetuadas nos passos anteriores. Inclua prints das execuções no terminal, códigos utilizados (em anexo), e queries executadas.\n",
    "\n",
    "\n",
    "**2) Uso de ferramentas de dados não-relacionais estruturados (SQL) para consultas.**\n",
    "\n",
    "Aqui o arquivo pós transformação e tratamento podem ser consumidos direto do data lake (storage) ou pode ser carregado através da ferramenta de ETL para o Ambiente Não Relacional.\n",
    "\n",
    "- Importe o arquivo final da etapa anterior para um ambiente de análise como: Hive, Redshift, BigQuery, Synapse, Athena ou semelhante.\n",
    "\n",
    "- Usando o (Hive, Synapse, Redshift, Athena, Big Query e etc) faça uma análise exploratória dos seus dados:\n",
    "a) contagem de registros\n",
    "b) visualize uma amostragem dos dados (as dez primeiras linhas).\n",
    "c) descrição dos campos da tabela\n",
    "d) contagem de valores distintos por campo chave\n",
    "e) estatística descritiva (média, mínimo, máximo)\n",
    "f) distribuição de frequência (contagem dos elementos de cada campo)\n",
    "\n",
    "- Prepare um relatório de qualidade de dados. Inclua a taxa de campos nulos, tipos inconsistentes e campos redundantes.\n",
    "\n",
    "- Elabore um pequeno dashboad (Power BI, Tableau, Apache Superset ou Matplotlib/Seaborn) com gráfico de tendencias, distribuição de categorias e KPIs relevantes."
   ]
  },
  {
   "cell_type": "code",
   "execution_count": 0,
   "metadata": {
    "application/vnd.databricks.v1+cell": {
     "cellMetadata": {
      "byteLimit": 2048000,
      "rowLimit": 10000
     },
     "inputWidgets": {},
     "nuid": "c087cec0-e131-4ce9-b050-9c8c5da05114",
     "showTitle": false,
     "tableResultSettingsMap": {},
     "title": ""
    }
   },
   "outputs": [],
   "source": [
    "spark.sql(\"CREATE CATALOG IF NOT EXISTS bus\")\n",
    "spark.sql(\"CREATE SCHEMA IF NOT EXISTS bus.bronze\")\n",
    "spark.sql(\"CREATE SCHEMA IF NOT EXISTS bus.silver\")\n",
    "spark.sql(\"CREATE SCHEMA IF NOT EXISTS bus.gold\")"
   ]
  },
  {
   "cell_type": "code",
   "execution_count": 0,
   "metadata": {
    "application/vnd.databricks.v1+cell": {
     "cellMetadata": {
      "byteLimit": 2048000,
      "rowLimit": 10000
     },
     "inputWidgets": {},
     "nuid": "bb60bd7d-215d-4bf9-8900-9cd1cbddea46",
     "showTitle": false,
     "tableResultSettingsMap": {},
     "title": ""
    }
   },
   "outputs": [],
   "source": [
    "spark.sql(\"USE CATALOG bus\")\n",
    "spark.sql(\"USE SCHEMA bronze\")"
   ]
  },
  {
   "cell_type": "code",
   "execution_count": 0,
   "metadata": {
    "application/vnd.databricks.v1+cell": {
     "cellMetadata": {
      "byteLimit": 2048000,
      "implicitDf": true,
      "rowLimit": 10000
     },
     "inputWidgets": {},
     "nuid": "0e8cd9b8-d5b2-4a8c-9704-42306615c6fc",
     "showTitle": false,
     "tableResultSettingsMap": {},
     "title": ""
    }
   },
   "outputs": [],
   "source": [
    "%sql\n",
    "CREATE VOLUME IF NOT EXISTS bus.bronze.rw"
   ]
  },
  {
   "cell_type": "code",
   "execution_count": 0,
   "metadata": {
    "application/vnd.databricks.v1+cell": {
     "cellMetadata": {
      "byteLimit": 2048000,
      "rowLimit": 10000
     },
     "inputWidgets": {},
     "nuid": "2191617b-e106-4008-a7e7-a11927fbc727",
     "showTitle": false,
     "tableResultSettingsMap": {},
     "title": ""
    }
   },
   "outputs": [],
   "source": [
    "df = spark.read.format(\"csv\") \\\n",
    "    .option(\"header\", \"true\") \\\n",
    "    .option(\"inferSchema\", \"true\") \\\n",
    "    .load(\"/Volumes/bus/bronze/rw/dados_mockados.csv\")\n",
    "\n",
    "df.write.format(\"delta\") \\\n",
    "    .mode(\"overwrite\") \\\n",
    "    .saveAsTable(\"bus.bronze.ota_bus_ticket_sales\")"
   ]
  },
  {
   "cell_type": "code",
   "execution_count": 0,
   "metadata": {
    "application/vnd.databricks.v1+cell": {
     "cellMetadata": {
      "byteLimit": 2048000,
      "implicitDf": true,
      "rowLimit": 10000
     },
     "inputWidgets": {},
     "nuid": "902e207b-d975-4ebd-82d2-c220f90ef1e7",
     "showTitle": false,
     "tableResultSettingsMap": {},
     "title": ""
    }
   },
   "outputs": [],
   "source": [
    "%sql\n",
    "SELECT * FROM bus.bronze.ota_bus_ticket_sales LIMIT 10"
   ]
  },
  {
   "cell_type": "markdown",
   "metadata": {
    "application/vnd.databricks.v1+cell": {
     "cellMetadata": {},
     "inputWidgets": {},
     "nuid": "608f4c13-69c5-4ed1-b809-d55ce3674183",
     "showTitle": false,
     "tableResultSettingsMap": {},
     "title": ""
    }
   },
   "source": [
    "# Análise Exploratória dos Dados"
   ]
  },
  {
   "cell_type": "code",
   "execution_count": 0,
   "metadata": {
    "application/vnd.databricks.v1+cell": {
     "cellMetadata": {
      "byteLimit": 2048000,
      "implicitDf": true,
      "rowLimit": 10000
     },
     "inputWidgets": {},
     "nuid": "3f519620-14e1-4a16-8853-777f56e7f385",
     "showTitle": true,
     "tableResultSettingsMap": {},
     "title": "Contagem de registros"
    }
   },
   "outputs": [],
   "source": [
    "%sql\n",
    "SELECT COUNT(*) FROM bus.bronze.ota_bus_ticket_sales"
   ]
  },
  {
   "cell_type": "code",
   "execution_count": 0,
   "metadata": {
    "application/vnd.databricks.v1+cell": {
     "cellMetadata": {
      "byteLimit": 2048000,
      "implicitDf": true,
      "rowLimit": 10000
     },
     "inputWidgets": {},
     "nuid": "60b21d3e-abd2-4934-a31d-b308a86fb245",
     "showTitle": true,
     "tableResultSettingsMap": {},
     "title": "Amostragem dos dados"
    }
   },
   "outputs": [],
   "source": [
    "%sql\n",
    "SELECT * FROM bus.bronze.ota_bus_ticket_sales LIMIT 10"
   ]
  },
  {
   "cell_type": "code",
   "execution_count": 0,
   "metadata": {
    "application/vnd.databricks.v1+cell": {
     "cellMetadata": {
      "byteLimit": 2048000,
      "implicitDf": true,
      "rowLimit": 10000
     },
     "inputWidgets": {},
     "nuid": "9168a554-8aab-4d82-83d5-88df0995b5f7",
     "showTitle": true,
     "tableResultSettingsMap": {},
     "title": "Descrição dos campos da tabela"
    }
   },
   "outputs": [],
   "source": [
    "%sql\n",
    "DESCRIBE TABLE bus.bronze.ota_bus_ticket_sales"
   ]
  },
  {
   "cell_type": "code",
   "execution_count": 0,
   "metadata": {
    "application/vnd.databricks.v1+cell": {
     "cellMetadata": {
      "byteLimit": 2048000,
      "rowLimit": 10000
     },
     "inputWidgets": {},
     "nuid": "91714e7c-8a98-4fe3-a9c6-977ab8e6c8d2",
     "showTitle": true,
     "tableResultSettingsMap": {},
     "title": "Leitura da tabela com Spark"
    }
   },
   "outputs": [],
   "source": [
    "df_ota_bus_ticket_sales = spark.table(\"bus.bronze.ota_bus_ticket_sales\")"
   ]
  },
  {
   "cell_type": "code",
   "execution_count": 0,
   "metadata": {
    "application/vnd.databricks.v1+cell": {
     "cellMetadata": {
      "byteLimit": 2048000,
      "rowLimit": 10000
     },
     "inputWidgets": {},
     "nuid": "0a0f1f58-17a8-493d-9cf1-bdb18f32ea06",
     "showTitle": true,
     "tableResultSettingsMap": {},
     "title": "Importação de biblioteca"
    }
   },
   "outputs": [],
   "source": [
    "from pyspark.sql.functions import *\n",
    "from pyspark.sql.types import StringType, DoubleType, IntegerType, LongType, FloatType"
   ]
  },
  {
   "cell_type": "code",
   "execution_count": 0,
   "metadata": {
    "application/vnd.databricks.v1+cell": {
     "cellMetadata": {
      "byteLimit": 2048000,
      "rowLimit": 10000
     },
     "inputWidgets": {},
     "nuid": "7b819c78-ce91-43a3-852b-9afe0b08a5e1",
     "showTitle": true,
     "tableResultSettingsMap": {},
     "title": "Contagem de valores distintos"
    }
   },
   "outputs": [],
   "source": [
    "contagem_distinta = df_ota_bus_ticket_sales.select([\n",
    "    countDistinct(\"nk_ota_localizer_id\").alias(\"distinct_localizer_id\"),\n",
    "    countDistinct(\"fk_contact\").alias(\"distinct_contacts\"),\n",
    "    countDistinct(\"place_origin_departure\").alias(\"distinct_origin_departure\")\n",
    "])\n",
    "\n",
    "display(contagem_distinta)"
   ]
  },
  {
   "cell_type": "code",
   "execution_count": 0,
   "metadata": {
    "application/vnd.databricks.v1+cell": {
     "cellMetadata": {
      "byteLimit": 2048000,
      "rowLimit": 10000
     },
     "inputWidgets": {},
     "nuid": "94704f06-ef00-42f3-903b-b1ca3b0af7db",
     "showTitle": true,
     "tableResultSettingsMap": {},
     "title": "Estatísticas descritivas"
    }
   },
   "outputs": [],
   "source": [
    "df_ota_bus = df_ota_bus_ticket_sales.withColumn(\"gmv_success\", regexp_replace(\"gmv_success\", \",\", \".\").cast(\"float\"))\n",
    "\n",
    "df_ota_bus_final = df_ota_bus.select(\n",
    "    mean(\"gmv_success\").alias(\"media_gmv\"),\n",
    "    min(\"gmv_success\").alias(\"min_gmv\"),\n",
    "    max(\"gmv_success\").alias(\"max_gmv\"),\n",
    "    mean(\"total_tickets_quantity_success\").alias(\"media_tickets\"),\n",
    "    min(\"total_tickets_quantity_success\").alias(\"min_tickets\"),\n",
    "    max(\"total_tickets_quantity_success\").alias(\"max_tickets\")\n",
    ")\n",
    "\n",
    "display(df_ota_bus_final)"
   ]
  },
  {
   "cell_type": "code",
   "execution_count": 0,
   "metadata": {
    "application/vnd.databricks.v1+cell": {
     "cellMetadata": {
      "byteLimit": 2048000,
      "rowLimit": 10000
     },
     "inputWidgets": {},
     "nuid": "7b3bea37-5439-416f-ab39-9d537f91253f",
     "showTitle": true,
     "tableResultSettingsMap": {},
     "title": "Distribuição de frequência por empresa de ônibus"
    }
   },
   "outputs": [],
   "source": [
    "df_ota_bus_ticket_sales.groupBy(\"fk_departure_ota_bus_company\").count().orderBy(\"count\", ascending=False).show()"
   ]
  },
  {
   "cell_type": "code",
   "execution_count": 0,
   "metadata": {
    "application/vnd.databricks.v1+cell": {
     "cellMetadata": {
      "byteLimit": 2048000,
      "rowLimit": 10000
     },
     "inputWidgets": {},
     "nuid": "0aaf4241-79b7-4d5b-afd6-5b079c4e0b00",
     "showTitle": true,
     "tableResultSettingsMap": {},
     "title": "Distribuição de frequência por cidades de origem"
    }
   },
   "outputs": [],
   "source": [
    "df_ota_bus_ticket_sales.groupBy(\"place_origin_departure\").count().orderBy(\"count\", ascending=False).show()"
   ]
  },
  {
   "cell_type": "markdown",
   "metadata": {
    "application/vnd.databricks.v1+cell": {
     "cellMetadata": {},
     "inputWidgets": {},
     "nuid": "13ccc390-b31a-4b4a-99a9-d65349ed7cca",
     "showTitle": false,
     "tableResultSettingsMap": {},
     "title": ""
    }
   },
   "source": [
    "# Relatório de Qualidade"
   ]
  },
  {
   "cell_type": "code",
   "execution_count": 0,
   "metadata": {
    "application/vnd.databricks.v1+cell": {
     "cellMetadata": {},
     "inputWidgets": {},
     "nuid": "c22cde18-aa60-434f-8507-d0c2312d61d0",
     "showTitle": false,
     "tableResultSettingsMap": {},
     "title": ""
    }
   },
   "outputs": [],
   "source": [
    "%sql\n",
    "\n",
    "-- DEIXAR O CÓDIGO DE QUALIDADE AQUI"
   ]
  }
 ],
 "metadata": {
  "application/vnd.databricks.v1+notebook": {
   "computePreferences": {
    "hardware": {
     "accelerator": null,
     "gpuPoolId": null,
     "memory": null
    }
   },
   "dashboards": [],
   "environmentMetadata": {
    "base_environment": "",
    "environment_version": "3"
   },
   "inputWidgetPreferences": null,
   "language": "python",
   "notebookMetadata": {
    "mostRecentlyExecutedCommandWithImplicitDF": {
     "commandId": 5386320825770403,
     "dataframes": [
      "_sqldf"
     ]
    },
    "pythonIndentUnit": 4
   },
   "notebookName": "Entregaveis Oficiais",
   "widgets": {}
  },
  "language_info": {
   "name": "python"
  }
 },
 "nbformat": 4,
 "nbformat_minor": 0
}
