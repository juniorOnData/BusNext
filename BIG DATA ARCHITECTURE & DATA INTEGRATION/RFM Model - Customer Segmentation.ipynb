{
 "cells": [
  {
   "cell_type": "markdown",
   "metadata": {
    "application/vnd.databricks.v1+cell": {
     "cellMetadata": {},
     "inputWidgets": {},
     "nuid": "02724c40-9d85-405d-b4e0-b7738d80a4b8",
     "showTitle": false,
     "tableResultSettingsMap": {},
     "title": ""
    }
   },
   "source": [
    "# Compreendendo o modelo RFM\n",
    "\n",
    "O modelo RFM é uma técnica de segmentação de clientes que avalia três dimensões principais do comportamento do cliente: Recência , Frequência e Valor Monetário.\n",
    "\n",
    "- **Recência (R)** : Esta métrica mede o tempo decorrido desde a última compra ou interação de um cliente com sua empresa. Quanto mais recente a compra, maior a probabilidade de repetição de negócios e engajamento do cliente.\n",
    "\n",
    "- **Frequência (F)** : Esta métrica monitora a frequência com que um cliente faz compras ou interage com sua empresa em um determinado período. Clientes com frequências de compra mais altas costumam ser mais fiéis e valiosos.\n",
    "\n",
    "- **Valor Monetário (M)** : Esta métrica quantifica o valor total gasto por um cliente com sua empresa. Valores monetários mais altos geralmente indicam clientes mais lucrativos que contribuem significativamente para sua receita."
   ]
  },
  {
   "cell_type": "code",
   "execution_count": 0,
   "metadata": {
    "application/vnd.databricks.v1+cell": {
     "cellMetadata": {
      "byteLimit": 2048000,
      "rowLimit": 10000
     },
     "collapsed": true,
     "inputWidgets": {},
     "nuid": "0cd66248-1287-4a9e-9c7a-4457b991252c",
     "showTitle": true,
     "tableResultSettingsMap": {
      "0": {
       "dataGridStateBlob": "{\"version\":1,\"tableState\":{\"columnPinning\":{\"left\":[\"#row_number#\"],\"right\":[]},\"columnSizing\":{},\"columnVisibility\":{}},\"settings\":{\"columns\":{}},\"syncTimestamp\":1758237734404}",
       "filterBlob": null,
       "queryPlanFiltersBlob": null,
       "tableResultIndex": 0
      }
     },
     "title": "Ajuste de Principais Destinos"
    }
   },
   "outputs": [],
   "source": [
    "%sql\n",
    "CREATE OR REPLACE TABLE bus.gold.ota_bus_ticket_sales AS (\n",
    "  SELECT\n",
    "    nk_ota_localizer_id,\n",
    "    fk_contact,\n",
    "    date_purchase,\n",
    "    time_purchase,\n",
    "    cod_place_origin_departure,\n",
    "    place_origin_departure,\n",
    "    cod_place_destination_departure,\n",
    "    CASE\n",
    "      WHEN place_destination_departure IN ('Cuiabá', 'Campinas') THEN 'Rio de Janeiro'\n",
    "      WHEN place_destination_departure IN ('Maceió') THEN 'Salvador'\n",
    "      WHEN place_destination_departure IN ('Teresina') THEN 'Foz do Iguaçu'\n",
    "      WHEN place_destination_departure IN ('Curitiba') THEN 'São Paulo'\n",
    "      WHEN place_destination_departure IN ('Goiânia', 'Brasília') THEN 'Florianópolis'\n",
    "      ELSE place_destination_departure\n",
    "    END AS place_destination_departure,\n",
    "    cod_place_origin_return,\n",
    "    place_origin_return,\n",
    "    cod_place_destination_return,\n",
    "    place_destination_return,\n",
    "    cod_departure_bus_company,\n",
    "    fk_departure_ota_bus_company,\n",
    "    cod_return_bus_company,\n",
    "    fk_return_ota_bus_company,\n",
    "    gmv_success,\n",
    "    total_tickets_quantity_success\n",
    "  FROM\n",
    "    bus.gold.ota_bus_ticket_sales\n",
    "  GROUP BY\n",
    "    ALL\n",
    ")"
   ]
  },
  {
   "cell_type": "code",
   "execution_count": 0,
   "metadata": {
    "application/vnd.databricks.v1+cell": {
     "cellMetadata": {
      "byteLimit": 2048000,
      "rowLimit": 10000
     },
     "collapsed": true,
     "inputWidgets": {},
     "nuid": "5d174089-747d-4e18-82e4-9a2656caccc2",
     "showTitle": true,
     "tableResultSettingsMap": {
      "0": {
       "dataGridStateBlob": "{\"version\":1,\"tableState\":{\"columnPinning\":{\"left\":[\"#row_number#\"],\"right\":[]},\"columnSizing\":{},\"columnVisibility\":{}},\"settings\":{\"columns\":{}},\"syncTimestamp\":1758238638298}",
       "filterBlob": null,
       "queryPlanFiltersBlob": null,
       "tableResultIndex": 0
      }
     },
     "title": "Ajuste - Faixa Etária"
    }
   },
   "outputs": [],
   "source": [
    "%sql\n",
    "CREATE OR REPLACE TABLE bus.bronze.dim_clientes AS (\n",
    "SELECT\n",
    "  fk_contact,\n",
    "  customer_code,\n",
    "  customer_name,\n",
    "  birth_date,\n",
    "  gender,\n",
    "  marital_status,\n",
    "  email,\n",
    "  phone_number,\n",
    "  address,\n",
    "  neighborhood,\n",
    "  city,\n",
    "  state,\n",
    "  customer_group,\n",
    "  income,\n",
    "  CASE\n",
    "    WHEN fk_contact IN (SELECT fk_contact FROM bus.bronze.dim_clientes WHERE age_group = '60+' GROUP BY ALL LIMIT 1500) THEN '26-35'\n",
    "    WHEN fk_contact IN (SELECT fk_contact FROM bus.bronze.dim_clientes WHERE age_group = '46-60' GROUP BY ALL LIMIT 500) THEN '36-45'\n",
    "      ELSE age_group\n",
    "  END AS age_group,\n",
    "  occupation,\n",
    "  customer_status,\n",
    "  last_update_date,\n",
    "  active_record_indicator\n",
    "FROM\n",
    "  bus.bronze.dim_clientes\n",
    ")"
   ]
  },
  {
   "cell_type": "code",
   "execution_count": 0,
   "metadata": {
    "application/vnd.databricks.v1+cell": {
     "cellMetadata": {
      "byteLimit": 2048000,
      "rowLimit": 10000
     },
     "inputWidgets": {},
     "nuid": "527157ad-5793-499a-b2a9-d8666e2851a9",
     "showTitle": true,
     "tableResultSettingsMap": {
      "0": {
       "dataGridStateBlob": "{\"version\":1,\"tableState\":{\"columnPinning\":{\"left\":[\"#row_number#\"],\"right\":[]},\"columnSizing\":{},\"columnVisibility\":{}},\"settings\":{\"columns\":{}},\"syncTimestamp\":1758239916538}",
       "filterBlob": null,
       "queryPlanFiltersBlob": null,
       "tableResultIndex": 0
      }
     },
     "title": "RMF - Preparing the Customers"
    }
   },
   "outputs": [],
   "source": [
    "%sql\n",
    "CREATE OR REPLACE TEMPORARY VIEW customers_cte AS (\n",
    "SELECT\n",
    "  fk_contact,\n",
    "  COUNT(DISTINCT nk_ota_localizer_id) AS orders,\n",
    "  ROUND(SUM(gmv_success), 2) AS order_value,\n",
    "  MAX(date_purchase) AS last_order_date\n",
    "FROM\n",
    "  bus.gold.ota_bus_ticket_sales\n",
    "GROUP BY\n",
    "  ALL\n",
    "  )"
   ]
  },
  {
   "cell_type": "code",
   "execution_count": 0,
   "metadata": {
    "application/vnd.databricks.v1+cell": {
     "cellMetadata": {
      "byteLimit": 2048000,
      "rowLimit": 10000
     },
     "inputWidgets": {},
     "nuid": "2f8c6cff-a72d-456d-8cb3-3abe02df98c6",
     "showTitle": true,
     "tableResultSettingsMap": {},
     "title": "Calculating Recency, Frequency & Monetary Value score"
    }
   },
   "outputs": [],
   "source": [
    "%py\n",
    "rfm_df = spark.sql(\"\"\"\n",
    "WITH rfm_cte AS (\n",
    "  SELECT\n",
    "    *,\n",
    "    PERCENT_RANK() OVER (Order by last_order_date) AS recency,\n",
    "    PERCENT_RANK() OVER (Order by orders) AS frequency,\n",
    "    PERCENT_RANK() OVER (Order by order_value) AS monetary\n",
    "  FROM\n",
    "    customers_cte\n",
    "),\n",
    "score_cte AS (\n",
    "  SELECT\n",
    "    *,\n",
    "    (0.2 * recency) + (0.4 * frequency) + (0.4 * monetary) AS rfm_wights,\n",
    "    PERCENT_RANK() OVER (\n",
    "        ORDER BY (0.2 * recency) + (0.4 * frequency) + (0.4 * monetary)\n",
    "      ) AS norm_rfm_score\n",
    "  FROM\n",
    "    rfm_cte\n",
    ")\n",
    "SELECT\n",
    "  fk_contact,\n",
    "  orders,\n",
    "  COALESCE(order_value, 0) AS order_value,\n",
    "  CAST(last_order_date AS DATE) AS last_order_date,\n",
    "  recency AS Recencia,\n",
    "  CASE\n",
    "    WHEN recency = 0 THEN 'Sem Recência'\n",
    "    WHEN recency <= 0.50 THEN 'Recência baixa'\n",
    "    WHEN recency <= 0.85 THEN 'Recência média'\n",
    "    WHEN recency <= 1 THEN 'Alta Recência'\n",
    "    ELSE 'Sem Recência'\n",
    "  END AS classificacao_recencia,\n",
    "  frequency AS Frequencia,\n",
    "  CASE\n",
    "    WHEN frequency = 0 THEN 'Sem Frequência'\n",
    "    WHEN frequency <= 0.50 THEN 'Frequência baixa'\n",
    "    WHEN frequency <= 0.85 THEN 'Frequência média'\n",
    "    WHEN frequency <= 1 THEN 'Alta Frequência'\n",
    "    ELSE 'Sem Frequência'\n",
    "  END AS classificacao_Frequencia,\n",
    "  monetary AS Monetario,\n",
    "  CASE\n",
    "    WHEN monetary = 0 THEN 'Sem valor'\n",
    "    WHEN monetary <= 0.50 THEN 'Baixo Valor'\n",
    "    WHEN monetary <= 0.85 THEN 'Médio Valor'\n",
    "    WHEN monetary <= 1 THEN 'Valor alto'\n",
    "    ELSE 'Sem valor'\n",
    "  END AS classificacao_Monetario,\n",
    "  norm_rfm_score,\n",
    "  CASE\n",
    "    WHEN orders = 0 THEN 'E'\n",
    "    WHEN norm_rfm_score >= 0.95 THEN 'A'\n",
    "    WHEN norm_rfm_score >= 0.80 THEN 'B'\n",
    "    WHEN norm_rfm_score >= 0.50 THEN 'C'\n",
    "    ELSE 'D'\n",
    "  END AS Segmento,\n",
    "  CASE\n",
    "    WHEN recency = 0 THEN 'Clientes Perdidos'\n",
    "    WHEN recency > 0.85 AND frequency > 0.85 AND monetary > 0.85 THEN 'Clientes Estratégicos'\n",
    "    WHEN recency <= 0.20 AND monetary <= 0.20 THEN 'Clientes Inativos'\n",
    "    WHEN frequency <= 0.50 AND monetary <= 0.50 THEN 'Clientes Ocasional'\n",
    "    WHEN monetary > 0.85 AND recency <= 0.50 THEN 'Clientes em Declínio'\n",
    "    WHEN monetary > 0.85 AND recency <= 0.50 THEN 'Clientes Premium em Risco'\n",
    "    WHEN frequency > 0.50 AND monetary > 0.50 THEN 'Clientes Regulares'\n",
    "    WHEN recency > 0.85 AND monetary <= 0.50 THEN 'Novos Clientes'\n",
    "    WHEN recency > 0.85 AND monetary > 0.50 THEN 'Clientes em Potencial'\n",
    "    WHEN frequency > 0.85 AND monetary > 0.50 THEN 'Clientes Leais'\n",
    "    ELSE 'Clientes Ativos'\n",
    "  END AS segmento_comercial\n",
    "FROM\n",
    "  score_cte\n",
    "ORDER BY\n",
    "  norm_rfm_score DESC\n",
    "\"\"\")"
   ]
  },
  {
   "cell_type": "code",
   "execution_count": 0,
   "metadata": {
    "application/vnd.databricks.v1+cell": {
     "cellMetadata": {
      "byteLimit": 2048000,
      "rowLimit": 10000
     },
     "inputWidgets": {},
     "nuid": "e4d317a4-674d-472e-bf16-8f5046f30b37",
     "showTitle": false,
     "tableResultSettingsMap": {},
     "title": ""
    }
   },
   "outputs": [],
   "source": [
    "%python\n",
    "rfm_pdf = rfm_df.toPandas()\n",
    "import seaborn as sns\n",
    "import matplotlib.pyplot as plt\n",
    "\n",
    "sns.pairplot(rfm_pdf[[\"Recencia\", \"Frequencia\", \"Monetario\", \"segmento_comercial\"]],\n",
    "             hue=\"segmento_comercial\",\n",
    "             palette=\"Set2\",\n",
    "             plot_kws={'alpha':0.7, 's':60})\n",
    "\n",
    "plt.show()"
   ]
  },
  {
   "cell_type": "markdown",
   "metadata": {
    "application/vnd.databricks.v1+cell": {
     "cellMetadata": {},
     "inputWidgets": {},
     "nuid": "46309eb5-b710-4ee3-8257-22471dd1ae78",
     "showTitle": false,
     "tableResultSettingsMap": {},
     "title": ""
    }
   },
   "source": [
    "Mapeamento e Classificação dos Clientes (10 grupos RFM → nomes):\n",
    "| Segmento RFM                          | Nome Profissional             |\n",
    "| ------------------------------------- | ----------------------------- |\n",
    "| Alta Recência, Alta Freq., Alto Valor | **Clientes Estratégicos**     |\n",
    "| Alta Freq., Médio Valor               | **Clientes Leais**            |\n",
    "| Alto Valor, mas Recência baixa        | **Clientes Premium em Risco** |\n",
    "| Recente, Baixo Valor                  | **Novos Clientes**            |\n",
    "| Recente, Médio Valor                  | **Clientes em Potencial**     |\n",
    "| Frequência média, Valor médio         | **Clientes Regulares**        |\n",
    "| Valor alto, Recência baixa            | **Clientes em Declínio**      |\n",
    "| Baixa Freq., Baixo Valor              | **Clientes Ocasional**        |\n",
    "| Longa recência, pouco gasto           | **Clientes Inativos**         |\n",
    "| Muito tempo sem atividade             | **Clientes Perdidos**         |\n"
   ]
  },
  {
   "cell_type": "code",
   "execution_count": 0,
   "metadata": {
    "application/vnd.databricks.v1+cell": {
     "cellMetadata": {
      "byteLimit": 2048000,
      "rowLimit": 10000
     },
     "inputWidgets": {},
     "nuid": "d4764f46-4694-429d-a2af-3f97401e90f7",
     "showTitle": true,
     "tableResultSettingsMap": {
      "0": {
       "dataGridStateBlob": "{\"version\":1,\"tableState\":{\"columnPinning\":{\"left\":[\"#row_number#\"],\"right\":[]},\"columnSizing\":{},\"columnVisibility\":{}},\"settings\":{\"columns\":{}},\"syncTimestamp\":1758241703682}",
       "filterBlob": null,
       "queryPlanFiltersBlob": null,
       "tableResultIndex": 0
      }
     },
     "title": "bus.gold.ota_bus_ticket_sales"
    }
   },
   "outputs": [],
   "source": [
    "%python\n",
    "\n",
    "# display(\n",
    "#     rfm_df.filter(\n",
    "#         rfm_df[\"segmento_comercial\"].isin([\"Clientes Inativos\"])\n",
    "#     )\n",
    "# )\n",
    "\n",
    "rfm_df.write \\\n",
    "    .mode(\"overwrite\") \\\n",
    "    .format(\"delta\") \\\n",
    "    .saveAsTable(\"bus.gold.rmf_customer_segmentation\")"
   ]
  },
  {
   "cell_type": "code",
   "execution_count": 0,
   "metadata": {
    "application/vnd.databricks.v1+cell": {
     "cellMetadata": {
      "byteLimit": 2048000,
      "rowLimit": 10000
     },
     "inputWidgets": {},
     "nuid": "0db720ee-7367-42fc-a1ef-263a638dc430",
     "showTitle": false,
     "tableResultSettingsMap": {},
     "title": ""
    }
   },
   "outputs": [],
   "source": [
    "%sql\n",
    "SELECT * FROM bus.gold.rmf_customer_segmentation"
   ]
  }
 ],
 "metadata": {
  "application/vnd.databricks.v1+notebook": {
   "computePreferences": {
    "hardware": {
     "accelerator": null,
     "gpuPoolId": null,
     "memory": null
    }
   },
   "dashboards": [],
   "environmentMetadata": {
    "base_environment": "",
    "environment_version": "3"
   },
   "inputWidgetPreferences": null,
   "language": "scala",
   "notebookMetadata": {
    "pythonIndentUnit": 4
   },
   "notebookName": "RFM Model - Customer Segmentation",
   "widgets": {}
  },
  "language_info": {
   "name": "scala"
  }
 },
 "nbformat": 4,
 "nbformat_minor": 0
}
