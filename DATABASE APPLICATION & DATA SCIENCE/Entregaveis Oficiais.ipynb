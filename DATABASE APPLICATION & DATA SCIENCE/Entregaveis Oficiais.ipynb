{
 "cells": [
  {
   "cell_type": "markdown",
   "metadata": {
    "application/vnd.databricks.v1+cell": {
     "cellMetadata": {},
     "inputWidgets": {},
     "nuid": "38fed150-032d-470c-bf12-69516c2ed468",
     "showTitle": false,
     "tableResultSettingsMap": {},
     "title": ""
    }
   },
   "source": [
    "# DATABASE APPLICATION & DATA SCIENCE\n",
    "\n",
    "Fazer um algoritmo em Python que leia um arquivo .csv relacionado ao tema de compra de passagens de ônibus e armazenar em uma coleção. Varrer a coleção preenchida e carregar uma tabela Oracle."
   ]
  },
  {
   "cell_type": "markdown",
   "metadata": {
    "application/vnd.databricks.v1+cell": {
     "cellMetadata": {},
     "inputWidgets": {},
     "nuid": "05e1d08b-d1a7-4bde-bcd9-780b6ff8682f",
     "showTitle": false,
     "tableResultSettingsMap": {},
     "title": ""
    }
   },
   "source": [
    "## Estrutura do arquivo\n",
    "\n",
    "O arquivo contém registros no formato para detalhar o retorno de somente uma linha. Este retorno está representando uma transação de compra de passagens de ônibus. A seguir, detalhamos cada um dos campos presentes em um exemplo de registro."
   ]
  },
  {
   "cell_type": "code",
   "execution_count": 0,
   "metadata": {
    "application/vnd.databricks.v1+cell": {
     "cellMetadata": {},
     "inputWidgets": {},
     "nuid": "04d4d3e0-a9bc-4433-b883-287c028d94d6",
     "showTitle": true,
     "tableResultSettingsMap": {},
     "title": "Exemplo de retorno por linha"
    }
   },
   "outputs": [],
   "source": [
    "{\n",
    "  \"nk_ota_localizer_id\": \"3H0YV76C74V8\",\n",
    "  \"fk_contact\": \"16SHI8GNRK\",\n",
    "  \"date_purchase\": \"2020-11-09\",\n",
    "  \"time_purchase\": \"17:49:43\",\n",
    "  \"place_origin_departure\": \"Natal\",\n",
    "  \"place_destination_departure\": \"São Luís\",\n",
    "  \"place_origin_return\": \"São Luís\",\n",
    "  \"place_destination_return\": \"Natal\",\n",
    "  \"fk_departure_ota_bus_company\": \"Rod Rotas\",\n",
    "  \"fk_return_ota_bus_company\": \"Expresso Itamarati\",\n",
    "  \"gmv_success\": 494.12,\n",
    "  \"total_tickets_quantity_success\": 5\n",
    "}"
   ]
  },
  {
   "cell_type": "markdown",
   "metadata": {
    "application/vnd.databricks.v1+cell": {
     "cellMetadata": {},
     "inputWidgets": {},
     "nuid": "177084e8-de4e-46dd-88b4-6e7bc276c8e9",
     "showTitle": false,
     "tableResultSettingsMap": {},
     "title": ""
    }
   },
   "source": [
    "## Instalação do Pacote OracleDB\n",
    "\n",
    "Instalação da biblioteca `oracledb` para permitir a conexão com bancos de dados Oracle, pois não há isso de forma nativa no Databricks.\n",
    "\n",
    "O comando `%pip install oracledb` instala o pacote oracledb via pip no ambiente do Databricks. O pacote oracledb é utilizado para estabelecer conexões com bancos de dados Oracle e realizar operações como consultas, inserções e atualizações.\n",
    "\n",
    "Enquanto o comando `dbutils.library.restartPython()` reinicia o kernel do Python no Databricks, recarregando as bibliotecas e dependências instaladas recentemente. O uso do restartPython() é frequentemente necessário após a instalação de novas bibliotecas, para garantir que as alterações no ambiente sejam aplicadas corretamente."
   ]
  },
  {
   "cell_type": "code",
   "execution_count": 0,
   "metadata": {
    "application/vnd.databricks.v1+cell": {
     "cellMetadata": {
      "byteLimit": 2048000,
      "rowLimit": 10000
     },
     "collapsed": true,
     "inputWidgets": {},
     "nuid": "4c3f4efc-0bb5-4e08-ae6a-779633bc75ac",
     "showTitle": true,
     "tableResultSettingsMap": {},
     "title": "Código de instalação"
    }
   },
   "outputs": [],
   "source": [
    "%pip install oracledb\n",
    "dbutils.library.restartPython()"
   ]
  },
  {
   "cell_type": "markdown",
   "metadata": {
    "application/vnd.databricks.v1+cell": {
     "cellMetadata": {},
     "inputWidgets": {},
     "nuid": "71afe7fb-eafa-4196-8a52-ade10b48f529",
     "showTitle": false,
     "tableResultSettingsMap": {},
     "title": ""
    }
   },
   "source": [
    "## Execução do Algoritmo\n",
    "\n",
    "#### Leitura de Dados e Conversão para Pandas\n",
    "\n",
    "**Descrição**: Converte dados do Databricks para um DataFrame do Pandas e os organiza em um formato de lista de dicionários.\n",
    "\n",
    "- O código extrai os 1000 primeiros registros da tabela bus.bronze.ota_bus_ticket_sales no Databricks usando o Spark, converte esses dados para um DataFrame do Pandas e, em seguida, os transforma em uma lista de dicionários, que será utilizada para inserir dados no banco de dados Oracle.\n",
    "\n",
    "#### Conexão com Banco de Dados Oracle\n",
    "\n",
    "**Descrição**: Estabelece uma conexão com o banco de dados Oracle usando as credenciais.\n",
    "\n",
    "- O código tenta se conectar ao banco de dados Oracle utilizando as credenciais fornecidas (usuário, senha e DSN). Se a conexão for bem-sucedida, imprime uma mensagem de sucesso, caso contrário, captura o erro e interrompe a execução do programa.\n",
    "\n",
    "#### Inserção de Dados no Banco de Dados Oracle\n",
    "\n",
    "**Descrição**: Insere os dados coletados no banco de dados Oracle utilizando uma consulta SQL.\n",
    "\n",
    "- O código prepara e executa a inserção dos dados coletados na coleção no banco de dados Oracle. A consulta SQL é parametrizada para prevenir SQL Injection, e o processo de inserção é executado para cada linha de dados. Após a inserção, as mudanças são confirmadas com o **commit()**, e a conexão é fechada."
   ]
  },
  {
   "cell_type": "code",
   "execution_count": 0,
   "metadata": {
    "application/vnd.databricks.v1+cell": {
     "cellMetadata": {
      "byteLimit": 2048000,
      "rowLimit": 10000
     },
     "inputWidgets": {},
     "nuid": "73a4c6e7-7494-4ccf-90dc-5bc711d14272",
     "showTitle": true,
     "tableResultSettingsMap": {},
     "title": "Leitura, Conexão e Inserção"
    }
   },
   "outputs": [],
   "source": [
    "import pandas as pd\n",
    "import oracledb\n",
    "\n",
    "df_ota_bus_ticket_sales = spark.table(\"bus.bronze.ota_bus_ticket_sales\").limit(1000)\n",
    "\n",
    "df_pandas = df_ota_bus_ticket_sales.toPandas()\n",
    "colecao = df_pandas.to_dict(orient=\"records\")\n",
    "\n",
    "print(\"Prévia da coleção extraída do nosso Dataframe (Camada Bronze):\")\n",
    "for item in colecao[:3]:\n",
    "    print(item)\n",
    "\n",
    "try:\n",
    "    conn = oracledb.connect(\n",
    "        user=\"RM562679\",\n",
    "        password=\"260701\",\n",
    "        dsn=\"oracle.fiap.com.br:1521/orcl\"\n",
    "    )\n",
    "    print(\"Conexão bem sucedida!\")\n",
    "except Exception as e:\n",
    "    print(f\"Erro de conexão: {e}\")\n",
    "    exit()\n",
    "\n",
    "try:\n",
    "    cur = conn.cursor()\n",
    "    \n",
    "    for linha in colecao:\n",
    "        consulta = \"\"\"\n",
    "        INSERT INTO ota_bus_ticket_sales (\n",
    "            nk_ota_localizer_id,\n",
    "            fk_contact,\n",
    "            date_purchase,\n",
    "            time_purchase,\n",
    "            place_origin_departure,\n",
    "            place_destination_departure,\n",
    "            place_origin_return,\n",
    "            place_destination_return,\n",
    "            fk_departure_ota_bus_company,\n",
    "            fk_return_ota_bus_company,\n",
    "            gmv_success,\n",
    "            total_tickets_quantity_success\n",
    "        ) VALUES (\n",
    "            :nk_ota_localizer_id,\n",
    "            :fk_contact,\n",
    "            :date_purchase,\n",
    "            :time_purchase,\n",
    "            :place_origin_departure,\n",
    "            :place_destination_departure,\n",
    "            :place_origin_return,\n",
    "            :place_destination_return,\n",
    "            :fk_departure_ota_bus_company,\n",
    "            :fk_return_ota_bus_company,\n",
    "            :gmv_success,\n",
    "            :total_tickets_quantity_success\n",
    "        )\n",
    "        \"\"\"\n",
    "        \n",
    "        cur.execute(consulta, linha)\n",
    "    \n",
    "    conn.commit()\n",
    "    print(\"Dados inseridos com sucesso no Oracle!\")\n",
    "    \n",
    "except Exception as e:\n",
    "    print(f\"Erro ao inserir dados: {e}\")\n",
    "\n",
    "finally:\n",
    "    cur.close()\n",
    "    conn.close()"
   ]
  },
  {
   "cell_type": "markdown",
   "metadata": {
    "application/vnd.databricks.v1+cell": {
     "cellMetadata": {},
     "inputWidgets": {},
     "nuid": "0b70bee8-35f1-4af1-b275-fa68bff460da",
     "showTitle": false,
     "tableResultSettingsMap": {},
     "title": ""
    }
   },
   "source": [
    "## Criação da tabela no Banco OracleDB\n",
    "\n",
    "Este comando SQL cria a tabela **ota_bus_ticket_sales** no banco de dados Oracle. Cada coluna da tabela corresponde a um campo da coleção de dados de vendas de passagens de ônibus. A coluna **nk_ota_localizer_id** é definida como a chave primária, garantindo que cada registro tenha um identificador único."
   ]
  },
  {
   "cell_type": "code",
   "execution_count": 0,
   "metadata": {
    "application/vnd.databricks.v1+cell": {
     "cellMetadata": {},
     "inputWidgets": {},
     "nuid": "7a8f470c-9415-49ef-8c0b-59685bb18e54",
     "showTitle": true,
     "tableResultSettingsMap": {},
     "title": "Código: Criação da tabela"
    }
   },
   "outputs": [],
   "source": [
    "%sql\n",
    "CREATE TABLE ota_bus_ticket_sales (\n",
    "    nk_ota_localizer_id        VARCHAR2(20) PRIMARY KEY,\n",
    "    fk_contact                 VARCHAR2(20),\n",
    "    date_purchase              DATE,\n",
    "    time_purchase              VARCHAR2(10),\n",
    "    place_origin_departure     VARCHAR2(100),\n",
    "    place_destination_departure VARCHAR2(100),\n",
    "    place_origin_return        VARCHAR2(100),\n",
    "    place_destination_return   VARCHAR2(100),\n",
    "    fk_departure_ota_bus_company VARCHAR2(100),\n",
    "    fk_return_ota_bus_company  VARCHAR2(100),\n",
    "    gmv_success                NUMBER(10,2),\n",
    "    total_tickets_quantity_success NUMBER(5)\n",
    ");"
   ]
  }
 ],
 "metadata": {
  "application/vnd.databricks.v1+notebook": {
   "computePreferences": {
    "hardware": {
     "accelerator": null,
     "gpuPoolId": null,
     "memory": null
    }
   },
   "dashboards": [],
   "environmentMetadata": {
    "base_environment": "",
    "environment_version": "3"
   },
   "inputWidgetPreferences": null,
   "language": "python",
   "notebookMetadata": {
    "pythonIndentUnit": 4
   },
   "notebookName": "Entregaveis Oficiais",
   "widgets": {}
  },
  "language_info": {
   "name": "python"
  }
 },
 "nbformat": 4,
 "nbformat_minor": 0
}
