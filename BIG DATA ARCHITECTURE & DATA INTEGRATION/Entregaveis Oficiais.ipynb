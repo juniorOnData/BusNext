{
 "cells": [
  {
   "cell_type": "markdown",
   "metadata": {
    "application/vnd.databricks.v1+cell": {
     "cellMetadata": {},
     "inputWidgets": {},
     "nuid": "537c069c-a95c-4eaa-812e-650f27310582",
     "showTitle": false,
     "tableResultSettingsMap": {},
     "title": ""
    }
   },
   "source": [
    "# ENTREGÁVEIS OFICIAIS:\n",
    "\n",
    "Atendendo aos requisitos de coleta, ingestão, armazenamento, transformação, consumo e orquestração.\n",
    "\n",
    "**2) Uso de ferramentas de dados não-relacionais estruturados (SQL) para consultas.**\n",
    "\n",
    "Aqui o arquivo pós transformação e tratamento podem ser consumidos direto do data lake (storage) ou pode ser carregado através da ferramenta de ETL para o Ambiente Não Relacional.\n",
    "\n",
    "- Importe o arquivo final da etapa anterior para um ambiente de análise como: Hive, Redshift, BigQuery, Synapse, Athena ou semelhante.\n",
    "\n",
    "- Usando o (Hive, Synapse, Redshift, Athena, Big Query e etc) faça uma análise exploratória dos seus dados:\n",
    "a) contagem de registros\n",
    "b) visualize uma amostragem dos dados (as dez primeiras linhas).\n",
    "c) descrição dos campos da tabela\n",
    "d) contagem de valores distintos por campo chave\n",
    "e) estatística descritiva (média, mínimo, máximo)\n",
    "f) distribuição de frequência (contagem dos elementos de cada campo)\n",
    "\n",
    "- Prepare um relatório de qualidade de dados. Inclua a taxa de campos nulos, tipos inconsistentes e campos redundantes.\n",
    "\n",
    "- Elabore um pequeno dashboad (Power BI, Tableau, Apache Superset ou Matplotlib/Seaborn) com gráfico de tendencias, distribuição de categorias e KPIs relevantes."
   ]
  },
  {
   "cell_type": "code",
   "execution_count": 0,
   "metadata": {
    "application/vnd.databricks.v1+cell": {
     "cellMetadata": {
      "byteLimit": 2048000,
      "rowLimit": 10000
     },
     "inputWidgets": {},
     "nuid": "c087cec0-e131-4ce9-b050-9c8c5da05114",
     "showTitle": false,
     "tableResultSettingsMap": {},
     "title": ""
    }
   },
   "outputs": [],
   "source": [
    "spark.sql(\"CREATE CATALOG IF NOT EXISTS bus\")\n",
    "spark.sql(\"CREATE SCHEMA IF NOT EXISTS bus.bronze\")\n",
    "spark.sql(\"CREATE SCHEMA IF NOT EXISTS bus.silver\")\n",
    "spark.sql(\"CREATE SCHEMA IF NOT EXISTS bus.gold\")"
   ]
  },
  {
   "cell_type": "code",
   "execution_count": 0,
   "metadata": {
    "application/vnd.databricks.v1+cell": {
     "cellMetadata": {
      "byteLimit": 2048000,
      "rowLimit": 10000
     },
     "inputWidgets": {},
     "nuid": "bb60bd7d-215d-4bf9-8900-9cd1cbddea46",
     "showTitle": false,
     "tableResultSettingsMap": {},
     "title": ""
    }
   },
   "outputs": [],
   "source": [
    "spark.sql(\"USE CATALOG bus\")\n",
    "spark.sql(\"USE SCHEMA bronze\")"
   ]
  },
  {
   "cell_type": "code",
   "execution_count": 0,
   "metadata": {
    "application/vnd.databricks.v1+cell": {
     "cellMetadata": {
      "byteLimit": 2048000,
      "implicitDf": true,
      "rowLimit": 10000
     },
     "inputWidgets": {},
     "nuid": "0e8cd9b8-d5b2-4a8c-9704-42306615c6fc",
     "showTitle": false,
     "tableResultSettingsMap": {},
     "title": ""
    }
   },
   "outputs": [],
   "source": [
    "%sql\n",
    "CREATE VOLUME IF NOT EXISTS bus.bronze.rw"
   ]
  },
  {
   "cell_type": "code",
   "execution_count": 0,
   "metadata": {
    "application/vnd.databricks.v1+cell": {
     "cellMetadata": {
      "byteLimit": 2048000,
      "rowLimit": 10000
     },
     "inputWidgets": {},
     "nuid": "2191617b-e106-4008-a7e7-a11927fbc727",
     "showTitle": false,
     "tableResultSettingsMap": {},
     "title": ""
    }
   },
   "outputs": [],
   "source": [
    "df = spark.read.format(\"csv\") \\\n",
    "    .option(\"header\", \"true\") \\\n",
    "    .option(\"inferSchema\", \"true\") \\\n",
    "    .load(\"/Volumes/bus/bronze/rw/dados_mockados.csv\")\n",
    "\n",
    "df.write.format(\"delta\") \\\n",
    "    .mode(\"overwrite\") \\\n",
    "    .saveAsTable(\"bus.bronze.ota_bus_ticket_sales\")"
   ]
  },
  {
   "cell_type": "code",
   "execution_count": 0,
   "metadata": {
    "application/vnd.databricks.v1+cell": {
     "cellMetadata": {
      "byteLimit": 2048000,
      "implicitDf": true,
      "rowLimit": 10000
     },
     "inputWidgets": {},
     "nuid": "902e207b-d975-4ebd-82d2-c220f90ef1e7",
     "showTitle": false,
     "tableResultSettingsMap": {},
     "title": ""
    }
   },
   "outputs": [],
   "source": [
    "%sql\n",
    "SELECT * FROM bus.bronze.ota_bus_ticket_sales LIMIT 10"
   ]
  },
  {
   "cell_type": "markdown",
   "metadata": {
    "application/vnd.databricks.v1+cell": {
     "cellMetadata": {},
     "inputWidgets": {},
     "nuid": "608f4c13-69c5-4ed1-b809-d55ce3674183",
     "showTitle": false,
     "tableResultSettingsMap": {},
     "title": ""
    }
   },
   "source": [
    "# Análise Exploratória dos Dados"
   ]
  },
  {
   "cell_type": "code",
   "execution_count": 0,
   "metadata": {
    "application/vnd.databricks.v1+cell": {
     "cellMetadata": {
      "byteLimit": 2048000,
      "implicitDf": true,
      "rowLimit": 10000
     },
     "inputWidgets": {},
     "nuid": "3f519620-14e1-4a16-8853-777f56e7f385",
     "showTitle": true,
     "tableResultSettingsMap": {},
     "title": "Contagem de registros"
    }
   },
   "outputs": [],
   "source": [
    "%sql\n",
    "SELECT COUNT(*) FROM bus.bronze.ota_bus_ticket_sales"
   ]
  },
  {
   "cell_type": "code",
   "execution_count": 0,
   "metadata": {
    "application/vnd.databricks.v1+cell": {
     "cellMetadata": {
      "byteLimit": 2048000,
      "implicitDf": true,
      "rowLimit": 10000
     },
     "inputWidgets": {},
     "nuid": "60b21d3e-abd2-4934-a31d-b308a86fb245",
     "showTitle": true,
     "tableResultSettingsMap": {},
     "title": "Amostragem dos dados"
    }
   },
   "outputs": [],
   "source": [
    "%sql\n",
    "SELECT * FROM bus.bronze.ota_bus_ticket_sales LIMIT 10"
   ]
  },
  {
   "cell_type": "code",
   "execution_count": 0,
   "metadata": {
    "application/vnd.databricks.v1+cell": {
     "cellMetadata": {
      "byteLimit": 2048000,
      "implicitDf": true,
      "rowLimit": 10000
     },
     "inputWidgets": {},
     "nuid": "9168a554-8aab-4d82-83d5-88df0995b5f7",
     "showTitle": true,
     "tableResultSettingsMap": {},
     "title": "Descrição dos campos da tabela"
    }
   },
   "outputs": [],
   "source": [
    "%sql\n",
    "DESCRIBE TABLE bus.bronze.ota_bus_ticket_sales"
   ]
  },
  {
   "cell_type": "code",
   "execution_count": 0,
   "metadata": {
    "application/vnd.databricks.v1+cell": {
     "cellMetadata": {
      "byteLimit": 2048000,
      "rowLimit": 10000
     },
     "inputWidgets": {},
     "nuid": "91714e7c-8a98-4fe3-a9c6-977ab8e6c8d2",
     "showTitle": true,
     "tableResultSettingsMap": {},
     "title": "Leitura da tabela com Spark"
    }
   },
   "outputs": [],
   "source": [
    "df_ota_bus_ticket_sales = spark.table(\"bus.bronze.ota_bus_ticket_sales\")"
   ]
  },
  {
   "cell_type": "code",
   "execution_count": 0,
   "metadata": {
    "application/vnd.databricks.v1+cell": {
     "cellMetadata": {
      "byteLimit": 2048000,
      "rowLimit": 10000
     },
     "inputWidgets": {},
     "nuid": "0a0f1f58-17a8-493d-9cf1-bdb18f32ea06",
     "showTitle": true,
     "tableResultSettingsMap": {},
     "title": "Importação de biblioteca"
    }
   },
   "outputs": [],
   "source": [
    "from pyspark.sql.functions import *\n",
    "from pyspark.sql.types import StringType, DoubleType, IntegerType, LongType, FloatType\n",
    "import pandas as pd"
   ]
  },
  {
   "cell_type": "code",
   "execution_count": 0,
   "metadata": {
    "application/vnd.databricks.v1+cell": {
     "cellMetadata": {
      "byteLimit": 2048000,
      "rowLimit": 10000
     },
     "inputWidgets": {},
     "nuid": "7b819c78-ce91-43a3-852b-9afe0b08a5e1",
     "showTitle": true,
     "tableResultSettingsMap": {},
     "title": "Contagem de valores distintos"
    }
   },
   "outputs": [],
   "source": [
    "contagem_distinta = df_ota_bus_ticket_sales.select([\n",
    "    countDistinct(\"nk_ota_localizer_id\").alias(\"distinct_localizer_id\"),\n",
    "    countDistinct(\"fk_contact\").alias(\"distinct_contacts\"),\n",
    "    countDistinct(\"place_origin_departure\").alias(\"distinct_origin_departure\")\n",
    "])\n",
    "\n",
    "display(contagem_distinta)"
   ]
  },
  {
   "cell_type": "code",
   "execution_count": 0,
   "metadata": {
    "application/vnd.databricks.v1+cell": {
     "cellMetadata": {
      "byteLimit": 2048000,
      "rowLimit": 10000
     },
     "inputWidgets": {},
     "nuid": "94704f06-ef00-42f3-903b-b1ca3b0af7db",
     "showTitle": true,
     "tableResultSettingsMap": {},
     "title": "Estatísticas descritivas"
    }
   },
   "outputs": [],
   "source": [
    "df_ota_bus = df_ota_bus_ticket_sales.withColumn(\"gmv_success\", regexp_replace(\"gmv_success\", \",\", \".\").cast(\"float\"))\n",
    "\n",
    "df_ota_bus_final = df_ota_bus.select(\n",
    "    mean(\"gmv_success\").alias(\"media_gmv\"),\n",
    "    min(\"gmv_success\").alias(\"min_gmv\"),\n",
    "    max(\"gmv_success\").alias(\"max_gmv\"),\n",
    "    mean(\"total_tickets_quantity_success\").alias(\"media_tickets\"),\n",
    "    min(\"total_tickets_quantity_success\").alias(\"min_tickets\"),\n",
    "    max(\"total_tickets_quantity_success\").alias(\"max_tickets\")\n",
    ")\n",
    "\n",
    "display(df_ota_bus_final)"
   ]
  },
  {
   "cell_type": "code",
   "execution_count": 0,
   "metadata": {
    "application/vnd.databricks.v1+cell": {
     "cellMetadata": {
      "byteLimit": 2048000,
      "rowLimit": 10000
     },
     "inputWidgets": {},
     "nuid": "7b3bea37-5439-416f-ab39-9d537f91253f",
     "showTitle": true,
     "tableResultSettingsMap": {},
     "title": "Distribuição de frequência por empresa de ônibus"
    }
   },
   "outputs": [],
   "source": [
    "df_ota_bus_ticket_sales.groupBy(\"fk_departure_ota_bus_company\").count().orderBy(\"count\", ascending=False).show()"
   ]
  },
  {
   "cell_type": "code",
   "execution_count": 0,
   "metadata": {
    "application/vnd.databricks.v1+cell": {
     "cellMetadata": {
      "byteLimit": 2048000,
      "rowLimit": 10000
     },
     "inputWidgets": {},
     "nuid": "0aaf4241-79b7-4d5b-afd6-5b079c4e0b00",
     "showTitle": true,
     "tableResultSettingsMap": {},
     "title": "Distribuição de frequência por cidades de origem"
    }
   },
   "outputs": [],
   "source": [
    "df_ota_bus_ticket_sales.groupBy(\"place_origin_departure\").count().orderBy(\"count\", ascending=False).show()"
   ]
  },
  {
   "cell_type": "code",
   "execution_count": 0,
   "metadata": {
    "application/vnd.databricks.v1+cell": {
     "cellMetadata": {
      "byteLimit": 2048000,
      "implicitDf": true,
      "rowLimit": 10000
     },
     "inputWidgets": {},
     "nuid": "1aaf2161-68e6-4b23-af66-87ec9804bc85",
     "showTitle": false,
     "tableResultSettingsMap": {},
     "title": ""
    }
   },
   "outputs": [],
   "source": [
    "%sql\n",
    "SELECT\n",
    "  *\n",
    "FROM\n",
    "  bus.bronze.ota_bus_ticket_sales LEFT JOIN bus.bronze.dim_clientes USING (fk_contact)\n",
    "WHERE\n",
    "  active_record_indicator = 'S'\n",
    "LIMIT 10"
   ]
  },
  {
   "cell_type": "markdown",
   "metadata": {
    "application/vnd.databricks.v1+cell": {
     "cellMetadata": {},
     "inputWidgets": {},
     "nuid": "13ccc390-b31a-4b4a-99a9-d65349ed7cca",
     "showTitle": false,
     "tableResultSettingsMap": {},
     "title": ""
    }
   },
   "source": [
    "# Relatório de Qualidade"
   ]
  },
  {
   "cell_type": "code",
   "execution_count": 0,
   "metadata": {
    "application/vnd.databricks.v1+cell": {
     "cellMetadata": {
      "byteLimit": 2048000,
      "rowLimit": 10000
     },
     "inputWidgets": {},
     "nuid": "08144970-9ad5-464e-a7e9-341bdbcaf2db",
     "showTitle": true,
     "tableResultSettingsMap": {},
     "title": "Verificação da estrutura da tabela"
    }
   },
   "outputs": [],
   "source": [
    "df_quality_report = spark.table(\"bus.bronze.ota_bus_ticket_sales\")\n",
    "\n",
    "schema = df_quality_report.dtypes\n",
    "print(\"Estrutura da Tabela:\")\n",
    "for column, dtype in schema:\n",
    "    print(f\"Coluna: {column}, Tipo de Dado: {dtype}\")"
   ]
  },
  {
   "cell_type": "code",
   "execution_count": 0,
   "metadata": {
    "application/vnd.databricks.v1+cell": {
     "cellMetadata": {
      "byteLimit": 2048000,
      "rowLimit": 10000
     },
     "inputWidgets": {},
     "nuid": "480a461f-7f51-4061-bf4a-d02ae1a696e7",
     "showTitle": true,
     "tableResultSettingsMap": {},
     "title": "Valores nulos por Coluna"
    }
   },
   "outputs": [],
   "source": [
    "null_counts = df_quality_report.select([F.sum(F.col(c).isNull().cast(\"int\")).alias(c) for c in df.columns])\n",
    "null_counts.display()"
   ]
  },
  {
   "cell_type": "code",
   "execution_count": 0,
   "metadata": {
    "application/vnd.databricks.v1+cell": {
     "cellMetadata": {
      "byteLimit": 2048000,
      "rowLimit": 10000
     },
     "inputWidgets": {},
     "nuid": "0b1d57f5-1bbc-45a6-9521-7e69a3120aca",
     "showTitle": false,
     "tableResultSettingsMap": {},
     "title": ""
    }
   },
   "outputs": [],
   "source": [
    "missing_nk_ota_localizer_id = df_quality_report.filter(F.col(\"nk_ota_localizer_id\").isNull())\n",
    "missing_nk_ota_localizer_id.display()"
   ]
  },
  {
   "cell_type": "code",
   "execution_count": 0,
   "metadata": {
    "application/vnd.databricks.v1+cell": {
     "cellMetadata": {
      "byteLimit": 2048000,
      "rowLimit": 10000
     },
     "inputWidgets": {},
     "nuid": "72f8f75e-6a04-47d2-a3fd-da1602de9dd4",
     "showTitle": true,
     "tableResultSettingsMap": {},
     "title": "Verificação de valores duplicados"
    }
   },
   "outputs": [],
   "source": [
    "duplicados = df_quality_report.count() - df_quality_report.distinct().count()\n",
    "print(f\"Quantidade de duplicatas: {duplicados}\")"
   ]
  },
  {
   "cell_type": "code",
   "execution_count": 0,
   "metadata": {
    "application/vnd.databricks.v1+cell": {
     "cellMetadata": {
      "byteLimit": 2048000,
      "rowLimit": 10000
     },
     "inputWidgets": {},
     "nuid": "b97dbd41-d11c-4b8d-87c2-125eee84a62e",
     "showTitle": true,
     "tableResultSettingsMap": {},
     "title": "Verificação de valores inconsistentes"
    }
   },
   "outputs": [],
   "source": [
    "# Verificando se houve o retorno de vendas com valores negativos\n",
    "\n",
    "df_precos_invalidos = df_quality_report.filter(F.col(\"gmv_success\") < 0)\n",
    "df_precos_invalidos.display()"
   ]
  },
  {
   "cell_type": "code",
   "execution_count": 0,
   "metadata": {
    "application/vnd.databricks.v1+cell": {
     "cellMetadata": {
      "byteLimit": 2048000,
      "rowLimit": 10000
     },
     "inputWidgets": {},
     "nuid": "22c2df85-cf58-4f4c-a0e1-e075063f3cec",
     "showTitle": true,
     "tableResultSettingsMap": {},
     "title": "Valores únicos por coluna"
    }
   },
   "outputs": [],
   "source": [
    "unique_counts = {col: df_quality_report.select(col).distinct().count() for col in df_quality_report.columns}\n",
    "print(\"Contagem de valores únicos por coluna:\")\n",
    "for col, count in unique_counts.items():\n",
    "    print(f\"Coluna: {col}, Valores únicos: {count}\")"
   ]
  },
  {
   "cell_type": "code",
   "execution_count": 0,
   "metadata": {
    "application/vnd.databricks.v1+cell": {
     "cellMetadata": {
      "byteLimit": 2048000,
      "rowLimit": 10000
     },
     "inputWidgets": {},
     "nuid": "c22cde18-aa60-434f-8507-d0c2312d61d0",
     "showTitle": false,
     "tableResultSettingsMap": {},
     "title": ""
    }
   },
   "outputs": [],
   "source": [
    "describe_quality_report = df_quality_report.describe().toPandas()\n",
    "print(\"Estatísticas Descritivas:\")\n",
    "print(describe_quality_report)\n",
    "\n",
    "quality_report = {\n",
    "    \"Estrutura\": schema,\n",
    "    \"Valores Nulos\": null_counts.toPandas(),\n",
    "    \"Duplicatas\": duplicates,\n",
    "    \"Valores Inconsistentes (Preço Negativo)\": df_invalid_prices.count(),\n",
    "    \"Valores Únicos por Coluna\": unique_counts,\n",
    "    \"Estatísticas Descritivas\": descriptive_stats,\n",
    "    \"Dados Ausentes em 'departure_date'\": missing_departure_dates.count()\n",
    "}\n",
    "\n",
    "print(\"Relatório gerado com sucesso!\")"
   ]
  }
 ],
 "metadata": {
  "application/vnd.databricks.v1+notebook": {
   "computePreferences": {
    "hardware": {
     "accelerator": null,
     "gpuPoolId": null,
     "memory": null
    }
   },
   "dashboards": [],
   "environmentMetadata": {
    "base_environment": "",
    "environment_version": "3"
   },
   "inputWidgetPreferences": null,
   "language": "python",
   "notebookMetadata": {
    "mostRecentlyExecutedCommandWithImplicitDF": {
     "commandId": 5926215178459145,
     "dataframes": [
      "_sqldf"
     ]
    },
    "pythonIndentUnit": 4
   },
   "notebookName": "Entregaveis Oficiais",
   "widgets": {}
  },
  "language_info": {
   "name": "python"
  }
 },
 "nbformat": 4,
 "nbformat_minor": 0
}
