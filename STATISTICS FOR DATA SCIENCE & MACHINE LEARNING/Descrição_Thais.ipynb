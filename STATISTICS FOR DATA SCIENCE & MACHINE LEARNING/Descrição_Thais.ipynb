{
 "cells": [
  {
   "cell_type": "markdown",
   "metadata": {
    "application/vnd.databricks.v1+cell": {
     "cellMetadata": {},
     "inputWidgets": {},
     "nuid": "02241fa7-9242-4699-99fe-dbe9505276b3",
     "showTitle": false,
     "tableResultSettingsMap": {},
     "title": ""
    }
   },
   "source": [
    "* DATASET: Apresentar dados que serão utilizados na soluçao.\n",
    "\n",
    "* ANÁLISE: Planejar e gerar as análises que serão realizadas com os dados propostos em código python.\n",
    "\n",
    "* INSIGHT: Apresentar resultados (em forma de listagem e/ou gráfico) e gerar insights relacionados a solução proposta. Os insights deverão ser disponibilizados como comentários no arquivo, logo após o resultado. Considere que os insights precisam ser bem compreendidos. Portanto, explique bem seus insights.\n",
    " "
   ]
  }
 ],
 "metadata": {
  "application/vnd.databricks.v1+notebook": {
   "computePreferences": null,
   "dashboards": [],
   "environmentMetadata": {
    "base_environment": "",
    "environment_version": "3"
   },
   "inputWidgetPreferences": null,
   "language": "python",
   "notebookMetadata": {
    "pythonIndentUnit": 4
   },
   "notebookName": "Descrição_Thais",
   "widgets": {}
  },
  "language_info": {
   "name": "python"
  }
 },
 "nbformat": 4,
 "nbformat_minor": 0
}
