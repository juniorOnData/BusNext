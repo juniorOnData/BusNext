{
 "cells": [
  {
   "cell_type": "markdown",
   "metadata": {
    "application/vnd.databricks.v1+cell": {
     "cellMetadata": {
      "byteLimit": 2048000,
      "rowLimit": 10000
     },
     "inputWidgets": {},
     "nuid": "02241fa7-9242-4699-99fe-dbe9505276b3",
     "showTitle": false,
     "tableResultSettingsMap": {},
     "title": ""
    }
   },
   "source": [
    "* DATASET: Apresentar dados que serão utilizados na soluçao.\n",
    "\n",
    "* ANÁLISE: Planejar e gerar as análises que serão realizadas com os dados propostos em código python.\n",
    "\n",
    "* INSIGHT: Apresentar resultados (em forma de listagem e/ou gráfico) e gerar insights relacionados a solução proposta. Os insights deverão ser disponibilizados como comentários no arquivo, logo após o resultado. Considere que os insights precisam ser bem compreendidos. Portanto, explique bem seus insights.\n",
    " "
   ]
  },
  {
   "cell_type": "code",
   "execution_count": 0,
   "metadata": {
    "application/vnd.databricks.v1+cell": {
     "cellMetadata": {
      "byteLimit": 2048000,
      "rowLimit": 10000
     },
     "collapsed": true,
     "inputWidgets": {},
     "nuid": "bd11e097-f74f-4851-b3d8-8fa0fb4cd003",
     "showTitle": false,
     "tableResultSettingsMap": {},
     "title": ""
    }
   },
   "outputs": [],
   "source": [
    "from pyspark.sql.functions import *\n",
    "from pyspark.sql.types import DateType\n",
    "import pandas as pd\n",
    "import numpy as np\n",
    "from sklearn.cluster import KMeans\n",
    "import matplotlib.pyplot as plt\n",
    "import seaborn as sns"
   ]
  },
  {
   "cell_type": "code",
   "execution_count": 0,
   "metadata": {
    "application/vnd.databricks.v1+cell": {
     "cellMetadata": {
      "byteLimit": 2048000,
      "rowLimit": 10000
     },
     "collapsed": true,
     "inputWidgets": {},
     "nuid": "c05f7a8f-1e59-4901-b71b-b78b894abf86",
     "showTitle": false,
     "tableResultSettingsMap": {},
     "title": ""
    }
   },
   "outputs": [],
   "source": [
    "df_ota_bus_ticket_sales = spark.table(\"bus.bronze.ota_bus_ticket_sales\")\n",
    "\n",
    "df_ota_bus_ticket_sales = df_ota_bus_ticket_sales.withColumn(\"year_purchase\", year(col(\"date_purchase\"))) \\\n",
    "                   .withColumn(\"month_purchase\", month(col(\"date_purchase\"))) \\\n",
    "                   .withColumn(\"day_of_week_purchase\", dayofweek(col(\"date_purchase\")))"
   ]
  },
  {
   "cell_type": "code",
   "execution_count": 0,
   "metadata": {
    "application/vnd.databricks.v1+cell": {
     "cellMetadata": {
      "byteLimit": 2048000,
      "rowLimit": 10000
     },
     "collapsed": true,
     "inputWidgets": {},
     "nuid": "b1242f59-c736-4874-a4ed-032aac23bf1c",
     "showTitle": true,
     "tableResultSettingsMap": {},
     "title": "Análise exploratória"
    }
   },
   "outputs": [],
   "source": [
    "print(\"Informações gerais:\")\n",
    "df_ota_bus_ticket_sales.printSchema()"
   ]
  },
  {
   "cell_type": "markdown",
   "metadata": {
    "application/vnd.databricks.v1+cell": {
     "cellMetadata": {},
     "inputWidgets": {},
     "nuid": "f3abce0d-2dee-4dbe-b148-721efdc27654",
     "showTitle": false,
     "tableResultSettingsMap": {},
     "title": ""
    }
   },
   "source": [
    "### Estatísticas Descritivas\n",
    "- GMV médio: R$ 275 (faixa entre R$ 52 e R$ 500)  \n",
    "- Tickets por compra: média de 3 (máx: 5)  \n",
    "- Período de dados: 2020–2025, foco em 2022–2023"
   ]
  },
  {
   "cell_type": "code",
   "execution_count": 0,
   "metadata": {
    "application/vnd.databricks.v1+cell": {
     "cellMetadata": {
      "byteLimit": 2048000,
      "rowLimit": 10000
     },
     "collapsed": true,
     "inputWidgets": {},
     "nuid": "8574ef30-d4ec-44d0-9a72-ae18f4f5172d",
     "showTitle": true,
     "tableResultSettingsMap": {},
     "title": "Estatísticas descritivas"
    }
   },
   "outputs": [],
   "source": [
    "print(\"\\nEstatísticas descritivas:\")\n",
    "display(df_ota_bus_ticket_sales.describe())"
   ]
  },
  {
   "cell_type": "markdown",
   "metadata": {
    "application/vnd.databricks.v1+cell": {
     "cellMetadata": {},
     "inputWidgets": {},
     "nuid": "cfa830b4-3a4e-4750-9d77-33bc40953fdb",
     "showTitle": false,
     "tableResultSettingsMap": {},
     "title": ""
    }
   },
   "source": [
    "### Distribuição dos Valores de Compras (GMV)\n",
    "-  Compras variam entre R$ 50 e R$ 500  \n",
    "-  Distribuição uniforme não há concentração em faixas específicas  \n",
    "-  Não existem outliers extremos, garantindo consistência na base  \n"
   ]
  },
  {
   "cell_type": "code",
   "execution_count": 0,
   "metadata": {
    "application/vnd.databricks.v1+cell": {
     "cellMetadata": {
      "byteLimit": 2048000,
      "rowLimit": 10000
     },
     "collapsed": true,
     "inputWidgets": {},
     "nuid": "b943db6c-812a-4453-8833-87219a869bbd",
     "showTitle": true,
     "tableResultSettingsMap": {},
     "title": "Distribuição dos valores de compras"
    }
   },
   "outputs": [],
   "source": [
    "df_pandas = df_ota_bus_ticket_sales.select(\"gmv_success\").toPandas()\n",
    "plt.figure(figsize=(10, 5))\n",
    "sns.histplot(df_pandas[\"gmv_success\"])\n",
    "plt.xlabel(\"Valor das compras R$\")\n",
    "plt.ylabel(\"Frequência de compras\")\n",
    "plt.title(\"Distribuição dos valores de compras\")\n",
    "display(plt.gcf())\n",
    "plt.clf()"
   ]
  },
  {
   "cell_type": "markdown",
   "metadata": {
    "application/vnd.databricks.v1+cell": {
     "cellMetadata": {},
     "inputWidgets": {},
     "nuid": "ca519ce9-415d-4d0d-8be4-16ceab0e5e18",
     "showTitle": false,
     "tableResultSettingsMap": {},
     "title": ""
    }
   },
   "source": [
    "### Distribuição dos Valores Médios por Passagem\n",
    "- Maioria das passagens custa entre R$ 70 e R$ 120\n",
    "- Forte concentração em valores baixos  passagens populares e curtas  \n",
    "- Existe uma cauda longa até R$ 500, mas são casos menos frequentes  \n"
   ]
  },
  {
   "cell_type": "code",
   "execution_count": 0,
   "metadata": {
    "application/vnd.databricks.v1+cell": {
     "cellMetadata": {
      "byteLimit": 2048000,
      "rowLimit": 10000
     },
     "collapsed": true,
     "inputWidgets": {},
     "nuid": "688752b0-6fd1-4ca9-879d-4fddadf37207",
     "showTitle": true,
     "tableResultSettingsMap": {},
     "title": "Valores médios por passagem"
    }
   },
   "outputs": [],
   "source": [
    "# converti para pandas com GMV e quantidade de tickets\n",
    "df_pandas = df_ota_bus_ticket_sales.select(\n",
    "    \"gmv_success\", \"total_tickets_quantity_success\"\n",
    ").toPandas()\n",
    "\n",
    "# creie uma nova coluna para o valor médio das passagens\n",
    "df_pandas[\"valor_por_ticket\"] = (\n",
    "    df_pandas[\"gmv_success\"] / df_pandas[\"total_tickets_quantity_success\"]\n",
    ")\n",
    "\n",
    "# plot do histograma usando valor médio por ticket\n",
    "plt.figure(figsize=(10, 5))\n",
    "sns.histplot(df_pandas[\"valor_por_ticket\"], bins=40, kde=False)\n",
    "\n",
    "plt.xlabel(\"Valor médio por passagem (R$)\")\n",
    "plt.ylabel(\"Frequência de tickets\")\n",
    "plt.title(\"Distribuição dos valores médios por passagem\")\n",
    "display(plt.gcf())\n",
    "plt.clf()\n"
   ]
  },
  {
   "cell_type": "markdown",
   "metadata": {
    "application/vnd.databricks.v1+cell": {
     "cellMetadata": {},
     "inputWidgets": {},
     "nuid": "e9945239-011d-4c7b-b1d9-b49c8bd65e5d",
     "showTitle": false,
     "tableResultSettingsMap": {},
     "title": ""
    }
   },
   "source": [
    "### Valor Médio por Passagem (por cliente)\n",
    "-  A maior parte dos clientes paga entre **R$ 70 e R$ 120** por passagem.   \n",
    "-  Poucos clientes ultrapassam **R$ 150**, indicando que passagens mais caras são exceção.  \n",
    "-  Isso reforça que o mercado é dominado por bilhetes de baixo a médio valor.  \n"
   ]
  },
  {
   "cell_type": "code",
   "execution_count": 0,
   "metadata": {
    "application/vnd.databricks.v1+cell": {
     "cellMetadata": {
      "byteLimit": 2048000,
      "rowLimit": 10000
     },
     "collapsed": true,
     "inputWidgets": {},
     "nuid": "574054d2-6042-4bf5-a626-d7882fe7a046",
     "showTitle": true,
     "tableResultSettingsMap": {},
     "title": "Valor gasto por passagem / Total gasto por CPF / Total de tickets por cpf"
    }
   },
   "outputs": [],
   "source": [
    "from pyspark.sql.functions import col\n",
    "\n",
    "# Agrupar por cliente (CPF ou ID do contato)\n",
    "clientes_1 = df_ota_bus_ticket_sales.groupby(\"fk_contact\").agg({\n",
    "    \"gmv_success\": \"sum\",                    \n",
    "    \"total_tickets_quantity_success\": \"sum\" \n",
    "})\n",
    "\n",
    "# Criar a métrica: valor gasto médio por ticket\n",
    "clientes_1 = clientes_1.withColumn(\n",
    "    \"valor_por_ticket\",\n",
    "    col(\"sum(gmv_success)\") / col(\"sum(total_tickets_quantity_success)\")\n",
    ")\n",
    "\n",
    "# Visualizar amostra\n",
    "display(clientes_1)"
   ]
  },
  {
   "cell_type": "code",
   "execution_count": 0,
   "metadata": {
    "application/vnd.databricks.v1+cell": {
     "cellMetadata": {
      "byteLimit": 2048000,
      "rowLimit": 10000
     },
     "collapsed": true,
     "inputWidgets": {},
     "nuid": "acbffdc1-4416-4c43-b4b5-e96c3e55ed8d",
     "showTitle": false,
     "tableResultSettingsMap": {},
     "title": ""
    }
   },
   "outputs": [],
   "source": [
    "import matplotlib.pyplot as plt\n",
    "import seaborn as sns\n",
    "\n",
    "pdf = clientes_1.select(\"valor_por_ticket\").toPandas()\n",
    "\n",
    "plt.figure(figsize=(10,5))\n",
    "sns.histplot(pdf[\"valor_por_ticket\"], bins=40, kde=False)\n",
    "plt.xlabel(\"Valor médio por passagem (R$)\")\n",
    "plt.ylabel(\"Qtd de clientes\")\n",
    "plt.title(\"Distribuição do valor médio por passagem (por cliente)\")\n",
    "plt.tight_layout()\n",
    "display(plt.gcf()); plt.clf()\n"
   ]
  },
  {
   "cell_type": "markdown",
   "metadata": {
    "application/vnd.databricks.v1+cell": {
     "cellMetadata": {},
     "inputWidgets": {},
     "nuid": "cb882d43-b043-4120-8b39-458a608261ea",
     "showTitle": false,
     "tableResultSettingsMap": {},
     "title": ""
    }
   },
   "source": [
    "### Top Destinos Mais Procurados\n",
    "-  Destinos com maior demanda: **Cuiabá, Teresina, Goiânia, Brasília e Rio de Janeiro**  \n",
    "-  Forte presença de **capitais regionais** além das grandes metrópoles (SP, RJ)  \n",
    "-  Indica que a procura não está centralizada só em grandes hubs, mas espalhada pelo Brasil  \n"
   ]
  },
  {
   "cell_type": "code",
   "execution_count": 0,
   "metadata": {
    "application/vnd.databricks.v1+cell": {
     "cellMetadata": {
      "byteLimit": 2048000,
      "rowLimit": 10000
     },
     "collapsed": true,
     "inputWidgets": {},
     "nuid": "430bc52a-d847-4072-ba3f-32bda50447a7",
     "showTitle": true,
     "tableResultSettingsMap": {},
     "title": "Destinos mais comuns"
    }
   },
   "outputs": [],
   "source": [
    "top_destinos = df_ota_bus_ticket_sales.groupBy(\"place_destination_departure\").count().orderBy(col(\"count\").desc())\n",
    "top_destinos_pandas = top_destinos.toPandas()\n",
    "plt.figure(figsize=(10, 5))\n",
    "sns.barplot(x=top_destinos_pandas[\"count\"], y=top_destinos_pandas[\"place_destination_departure\"])\n",
    "plt.title(\"Top destinos mais procurados\")\n",
    "display(plt.gcf())\n",
    "plt.clf()"
   ]
  },
  {
   "cell_type": "markdown",
   "metadata": {
    "application/vnd.databricks.v1+cell": {
     "cellMetadata": {},
     "inputWidgets": {},
     "nuid": "8261c51d-aa66-4c41-8dfc-9b06aa02acdd",
     "showTitle": false,
     "tableResultSettingsMap": {},
     "title": ""
    }
   },
   "source": [
    "### GMV Total por Cidade (Destinos Mais Rentáveis)\n",
    "- **Destinos líderes em faturamento:** Salvador, Cuiabá, Goiânia, Porto Alegre e Brasília  \n",
    "-  Esses destinos se destacam não apenas pelo volume, mas também pelo **valor agregado das passagens**  \n",
    "-  Nem sempre os destinos mais procurados são os mais rentáveis. Aqui vemos equilíbrio entre demanda e ticket médio  \n"
   ]
  },
  {
   "cell_type": "code",
   "execution_count": 0,
   "metadata": {
    "application/vnd.databricks.v1+cell": {
     "cellMetadata": {
      "byteLimit": 2048000,
      "rowLimit": 10000
     },
     "collapsed": true,
     "inputWidgets": {},
     "nuid": "734c619a-30c3-4a20-ba4c-2de4f65cb038",
     "showTitle": true,
     "tableResultSettingsMap": {},
     "title": "GMV total por cidade"
    }
   },
   "outputs": [
    {
     "output_type": "display_data",
     "data": {
      "text/plain": [
       "Databricks visualization. Run in Databricks to view."
      ]
     },
     "metadata": {
      "application/vnd.databricks.v1.subcommand+json": {
       "baseErrorDetails": null,
       "bindings": {},
       "collapsed": false,
       "command": "%python\n__backend_agg_display_orig = display\n__backend_agg_dfs = []\ndef __backend_agg_display_new(df):\n    __backend_agg_df_modules = [\"pandas.core.frame\", \"databricks.koalas.frame\", \"pyspark.sql.dataframe\", \"pyspark.pandas.frame\", \"pyspark.sql.connect.dataframe\"]\n    if (type(df).__module__ in __backend_agg_df_modules and type(df).__name__ == 'DataFrame') or isinstance(df, list):\n        __backend_agg_dfs.append(df)\n\ndisplay = __backend_agg_display_new\n\ndef __backend_agg_user_code_fn():\n    import base64\n    exec(base64.standard_b64decode(\"ZnJvbSBweXNwYXJrLnNxbCBpbXBvcnQgZnVuY3Rpb25zIGFzIEYKCiMgR01WIHRvdGFsIHBvciBjaWRhZGUKZ212X3Bvcl9jaWRhZGUgPSAoCiAgICBkZl9vdGFfYnVzX3RpY2tldF9zYWxlcwogICAgLmdyb3VwQnkoInBsYWNlX2Rlc3RpbmF0aW9uX2RlcGFydHVyZSIpCiAgICAuYWdnKEYuc3VtKCJnbXZfc3VjY2VzcyIpLmFsaWFzKCJnbXZfdG90YWwiKSkKICAgIC5vcmRlckJ5KEYuY29sKCJnbXZfdG90YWwiKS5kZXNjKCkpIAopCmRpc3BsYXkoZ212X3Bvcl9jaWRhZGUp\").decode())\n\ntry:\n    # run user code\n    __backend_agg_user_code_fn()\n\n    #reset display function\n    display = __backend_agg_display_orig\n\n    if len(__backend_agg_dfs) > 0:\n        # create a temp view\n        if type(__backend_agg_dfs[0]).__module__ == \"databricks.koalas.frame\":\n            # koalas dataframe\n            __backend_agg_dfs[0].to_spark().createOrReplaceTempView(\"DatabricksViewde1415e\")\n        elif type(__backend_agg_dfs[0]).__module__ == \"pandas.core.frame\" or isinstance(__backend_agg_dfs[0], list):\n            # pandas dataframe\n            spark.createDataFrame(__backend_agg_dfs[0]).createOrReplaceTempView(\"DatabricksViewde1415e\")\n        else:\n            __backend_agg_dfs[0].createOrReplaceTempView(\"DatabricksViewde1415e\")\n        #run backend agg\n        display(spark.sql(\"\"\"WITH q AS (select * from DatabricksViewde1415e) SELECT `place_destination_departure`,SUM(`gmv_total`) `column_73b028ca113`,`place_destination_departure` FROM q GROUP BY `place_destination_departure`\"\"\"))\n    else:\n        displayHTML(\"dataframe no longer exists. If you're using dataframe.display(), use display(dataframe) instead.\")\n\n\nfinally:\n    spark.sql(\"drop view if exists DatabricksViewde1415e\")\n    display = __backend_agg_display_orig\n    del __backend_agg_display_new\n    del __backend_agg_display_orig\n    del __backend_agg_dfs\n    del __backend_agg_user_code_fn\n\n",
       "commandTitle": "Visualization 1",
       "commandType": "auto",
       "commandVersion": 0,
       "commentThread": [],
       "commentsVisible": false,
       "contentSha256Hex": null,
       "customPlotOptions": {
        "redashChart": [
         {
          "key": "type",
          "value": "CHART"
         },
         {
          "key": "options",
          "value": {
           "alignYAxesAtZero": true,
           "coefficient": 1,
           "columnConfigurationMap": {
            "series": {
             "column": "place_destination_departure",
             "id": "column_73b028ca117"
            },
            "x": {
             "column": "place_destination_departure",
             "id": "column_73b028ca112"
            },
            "y": [
             {
              "column": "gmv_total",
              "id": "column_73b028ca113",
              "transform": "SUM"
             }
            ]
           },
           "dateTimeFormat": "DD/MM/YYYY HH:mm",
           "direction": {
            "type": "counterclockwise"
           },
           "error_y": {
            "type": "data",
            "visible": true
           },
           "globalSeriesType": "column",
           "isAggregationOn": true,
           "legend": {
            "traceorder": "normal"
           },
           "missingValuesAsZero": true,
           "numberFormat": "0,0.[00000]",
           "percentFormat": "0[.]00%",
           "series": {
            "error_y": {
             "type": "data",
             "visible": true
            },
            "stacking": null
           },
           "seriesOptions": {
            "column_73b028ca113": {
             "name": "gmv_total",
             "type": "column",
             "yAxis": 0
            }
           },
           "showDataLabels": false,
           "sizemode": "diameter",
           "sortX": true,
           "sortY": true,
           "swappedAxes": true,
           "textFormat": "",
           "useAggregationsUi": true,
           "valuesOptions": {},
           "version": 2,
           "xAxis": {
            "labels": {
             "enabled": true
            },
            "type": "-"
           },
           "yAxis": [
            {
             "type": "-"
            },
            {
             "opposite": true,
             "type": "-"
            }
           ]
          }
         }
        ]
       },
       "datasetPreviewNameToCmdIdMap": {},
       "diffDeletes": [],
       "diffInserts": [],
       "displayType": "redashChart",
       "error": null,
       "errorDetails": null,
       "errorSummary": null,
       "errorTraceType": null,
       "finishTime": 0,
       "globalVars": {},
       "guid": "",
       "height": "auto",
       "hideCommandCode": false,
       "hideCommandResult": false,
       "iPythonMetadata": null,
       "inputWidgets": {},
       "isLockedInExamMode": false,
       "latestUser": "a user",
       "latestUserId": null,
       "listResultMetadata": null,
       "metadata": {
        "byteLimit": 2048000,
        "rowLimit": 10000
       },
       "nuid": "c9479804-07de-4987-a8be-20122ff73a67",
       "origId": 0,
       "parentHierarchy": [],
       "pivotAggregation": null,
       "pivotColumns": null,
       "position": 9.5,
       "resultDbfsErrorMessage": null,
       "resultDbfsStatus": "INLINED_IN_TREE",
       "results": null,
       "showCommandTitle": false,
       "startTime": 0,
       "state": "input",
       "streamStates": {},
       "subcommandOptions": {
        "queryPlan": {
         "groups": [
          {
           "column": "place_destination_departure",
           "type": "column"
          },
          {
           "column": "place_destination_departure",
           "type": "column"
          }
         ],
         "selects": [
          {
           "column": "place_destination_departure",
           "type": "column"
          },
          {
           "alias": "column_73b028ca113",
           "args": [
            {
             "column": "gmv_total",
             "type": "column"
            }
           ],
           "function": "SUM",
           "type": "function"
          },
          {
           "column": "place_destination_departure",
           "type": "column"
          }
         ]
        }
       },
       "submitTime": 0,
       "subtype": "tableResultSubCmd.visualization",
       "tableResultIndex": 0,
       "tableResultSettingsMap": {},
       "useConsistentColors": false,
       "version": "CommandV1",
       "width": "auto",
       "workflows": null,
       "xColumns": null,
       "yColumns": null
      }
     },
     "output_type": "display_data"
    }
   ],
   "source": [
    "from pyspark.sql import functions as F\n",
    "\n",
    "# GMV total por cidade\n",
    "gmv_por_cidade = (\n",
    "    df_ota_bus_ticket_sales\n",
    "    .groupBy(\"place_destination_departure\")\n",
    "    .agg(F.sum(\"gmv_success\").alias(\"gmv_total\"))\n",
    "    .orderBy(F.col(\"gmv_total\").desc()) \n",
    ")\n",
    "display(gmv_por_cidade)"
   ]
  },
  {
   "cell_type": "markdown",
   "metadata": {
    "application/vnd.databricks.v1+cell": {
     "cellMetadata": {},
     "inputWidgets": {},
     "nuid": "f32360ec-b300-430f-b6cd-761c66be7d7d",
     "showTitle": false,
     "tableResultSettingsMap": {},
     "title": ""
    }
   },
   "source": [
    "### Top Destinos Mais Procurados (por Tickets)\n",
    "-  Cuiabá, Teresina, Rio de Janeiro e Brasília lideram em volume de passagens emitidas  \n",
    "-  Há forte presença de **capitais regionais**, não apenas grandes metrópoles  \n",
    "-  Isso sugere que a demanda não está concentrada apenas nos grandes hubs (SP e RJ), mas bem distribuída em cidades médias e destinos turísticos  \n"
   ]
  },
  {
   "cell_type": "code",
   "execution_count": 0,
   "metadata": {
    "application/vnd.databricks.v1+cell": {
     "cellMetadata": {
      "byteLimit": 2048000,
      "rowLimit": 10000
     },
     "collapsed": true,
     "inputWidgets": {},
     "nuid": "1b37febb-1f39-4b67-84ef-252578ca2312",
     "showTitle": true,
     "tableResultSettingsMap": {},
     "title": "Agregar destinos com contagem de compras e tickets"
    }
   },
   "outputs": [],
   "source": [
    "# Agregar destinos com contagem de compras e tickets\n",
    "agg_destinos = (\n",
    "    df_ota_bus_ticket_sales\n",
    "    .groupBy(\"place_destination_departure\")\n",
    "    .agg(\n",
    "        F.count(\"*\").alias(\"compras_total\"),\n",
    "        F.sum(\"total_tickets_quantity_success\").alias(\"tickets_total\"),\n",
    "        F.sum(\"gmv_success\").alias(\"gmv_total\")\n",
    "    )\n",
    ")\n",
    "\n",
    "# Top mais procurados\n",
    "mais_procurados = agg_destinos.orderBy(F.col(\"tickets_total\").desc())\n",
    "\n",
    "# Top menos procurados\n",
    "menos_procurados = agg_destinos.orderBy(F.col(\"tickets_total\").asc())\n"
   ]
  },
  {
   "cell_type": "code",
   "execution_count": 0,
   "metadata": {
    "application/vnd.databricks.v1+cell": {
     "cellMetadata": {
      "byteLimit": 2048000,
      "rowLimit": 10000
     },
     "collapsed": true,
     "inputWidgets": {},
     "nuid": "b2c08189-86e4-48ab-9496-497f3e7cc5e9",
     "showTitle": false,
     "tableResultSettingsMap": {},
     "title": ""
    }
   },
   "outputs": [],
   "source": [
    "pdf_mais = mais_procurados.toPandas()\n",
    "pdf_menos = menos_procurados.toPandas()\n",
    "\n",
    "# --- Mais procurados\n",
    "plt.figure(figsize=(10,6))\n",
    "sns.barplot(data=pdf_mais, x=\"tickets_total\", y=\"place_destination_departure\", palette=\"Blues_d\")\n",
    "plt.title(\"Top Procuras (por tickets)\")\n",
    "plt.xlabel(\"Total de tickets\")\n",
    "plt.ylabel(\"Destino\")\n",
    "plt.tight_layout()\n",
    "display(plt.gcf())\n",
    "plt.clf()"
   ]
  },
  {
   "cell_type": "code",
   "execution_count": 0,
   "metadata": {
    "application/vnd.databricks.v1+cell": {
     "cellMetadata": {
      "byteLimit": 2048000,
      "implicitDf": true,
      "rowLimit": 10000
     },
     "collapsed": true,
     "inputWidgets": {},
     "nuid": "0a690193-3cf5-4cc0-931a-41036255b738",
     "showTitle": false,
     "tableResultSettingsMap": {
      "0": {
       "dataGridStateBlob": "{\"version\":1,\"tableState\":{\"columnPinning\":{\"left\":[\"#row_number#\"],\"right\":[]},\"columnSizing\":{\"gmv_success\":145},\"columnVisibility\":{}},\"settings\":{\"columns\":{}},\"syncTimestamp\":1756518397037}",
       "filterBlob": null,
       "queryPlanFiltersBlob": null,
       "tableResultIndex": 0
      }
     },
     "title": ""
    }
   },
   "outputs": [
    {
     "output_type": "display_data",
     "data": {
      "text/plain": [
       "Databricks visualization. Run in Databricks to view."
      ]
     },
     "metadata": {
      "application/vnd.databricks.v1.subcommand+json": {
       "baseErrorDetails": null,
       "bindings": {},
       "collapsed": false,
       "command": "%sql WITH q AS (select\n  date_purchase,\n  place_destination_departure,\n  count(distinct nk_ota_localizer_id) as qtd,\n  sum(gmv_success) as gmv_success\nfrom\n  bus.gold.ota_bus_ticket_sales\ngroup by\n  all\norder by\n  qtd desc) SELECT DATE_TRUNC('MONTH',`date_purchase`) `column_11839279710`,SUM(`qtd`) `column_11839279699` FROM q GROUP BY `column_11839279710`",
       "commandTitle": "Distribuição mensal",
       "commandType": "auto",
       "commandVersion": 0,
       "commentThread": [],
       "commentsVisible": false,
       "contentSha256Hex": null,
       "customPlotOptions": {
        "redashChart": [
         {
          "key": "type",
          "value": "CHART"
         },
         {
          "key": "options",
          "value": {
           "alignYAxesAtZero": true,
           "coefficient": 1,
           "columnConfigurationMap": {
            "x": {
             "column": "date_purchase",
             "id": "column_11839279710",
             "transform": "MONTH_LEVEL"
            },
            "y": [
             {
              "column": "qtd",
              "id": "column_11839279699",
              "transform": "SUM"
             }
            ]
           },
           "dateTimeFormat": "DD/MM/YYYY HH:mm",
           "direction": {
            "type": "counterclockwise"
           },
           "error_y": {
            "type": "data",
            "visible": true
           },
           "globalSeriesType": "line",
           "isAggregationOn": true,
           "legend": {
            "traceorder": "normal"
           },
           "missingValuesAsZero": true,
           "numberFormat": "0,0.[00000]",
           "percentFormat": "0[.]00%",
           "series": {
            "error_y": {
             "type": "data",
             "visible": true
            },
            "percentValues": false,
            "stacking": null
           },
           "seriesOptions": {
            "column_11839279699": {
             "color": "#00A972",
             "type": "line",
             "yAxis": 0
            }
           },
           "showDataLabels": false,
           "sizemode": "diameter",
           "sortX": true,
           "sortY": true,
           "swappedAxes": false,
           "textFormat": "",
           "useAggregationsUi": true,
           "valuesOptions": {},
           "version": 2,
           "xAxis": {
            "labels": {
             "enabled": true
            },
            "type": "-"
           },
           "yAxis": [
            {
             "type": "-"
            },
            {
             "opposite": true,
             "type": "-"
            }
           ]
          }
         }
        ]
       },
       "datasetPreviewNameToCmdIdMap": {},
       "diffDeletes": [],
       "diffInserts": [],
       "displayType": "redashChart",
       "error": null,
       "errorDetails": null,
       "errorSummary": null,
       "errorTraceType": null,
       "finishTime": 1756605763867,
       "globalVars": {},
       "guid": "",
       "height": "auto",
       "hideCommandCode": false,
       "hideCommandResult": false,
       "iPythonMetadata": null,
       "inputWidgets": {},
       "isLockedInExamMode": false,
       "latestUser": "a user",
       "latestUserId": null,
       "listResultMetadata": [
        [
         "table",
         68
        ]
       ],
       "metadata": {
        "byteLimit": 2048000,
        "implicitDf": true,
        "rowLimit": 10000
       },
       "nuid": "01b4de35-c718-4eea-97a0-2bf79a8e5192",
       "origId": 0,
       "parentHierarchy": [],
       "pivotAggregation": null,
       "pivotColumns": null,
       "position": 3.953125,
       "resultDbfsErrorMessage": null,
       "resultDbfsStatus": "INLINED_IN_TREE",
       "results": null,
       "showCommandTitle": false,
       "startTime": 1756605761169,
       "state": "input",
       "streamStates": {},
       "subcommandOptions": {
        "queryPlan": {
         "groups": [
          {
           "column": "column_11839279710",
           "type": "column"
          }
         ],
         "selects": [
          {
           "alias": "column_11839279710",
           "args": [
            {
             "column": "date_purchase",
             "type": "column"
            },
            {
             "string": "MONTH",
             "type": "string"
            }
           ],
           "function": "DATE_TRUNC",
           "type": "function"
          },
          {
           "alias": "column_11839279699",
           "args": [
            {
             "column": "qtd",
             "type": "column"
            }
           ],
           "function": "SUM",
           "type": "function"
          }
         ]
        }
       },
       "submitTime": 1756605685788,
       "subtype": "tableResultSubCmd.visualization",
       "tableResultIndex": 0,
       "tableResultSettingsMap": {},
       "useConsistentColors": false,
       "version": "CommandV1",
       "width": "auto",
       "workflows": null,
       "xColumns": null,
       "yColumns": null
      }
     },
     "output_type": "display_data"
    }
   ],
   "source": [
    "%sql\n",
    "select\n",
    "  date_purchase,\n",
    "  place_destination_departure,\n",
    "  count(distinct nk_ota_localizer_id) as qtd,\n",
    "  sum(gmv_success) as gmv_success\n",
    "from\n",
    "  bus.gold.ota_bus_ticket_sales\n",
    "group by\n",
    "  all\n",
    "order by\n",
    "  qtd desc;\n"
   ]
  },
  {
   "cell_type": "markdown",
   "metadata": {
    "application/vnd.databricks.v1+cell": {
     "cellMetadata": {},
     "inputWidgets": {},
     "nuid": "c93936d7-910d-44a0-b28f-f73f0a230fa4",
     "showTitle": false,
     "tableResultSettingsMap": {},
     "title": ""
    }
   },
   "source": [
    "### Quantidade de compra por cliente\n",
    "- Esse resultado mostra clientes de maior recorrência em destinos específicos. Alguns clientes compram várias vezes para a mesma cidade, representando um padrão de lealdade de viagem. Isso é estratégico para segmentação de marketing e campanhas de retenção."
   ]
  },
  {
   "cell_type": "code",
   "execution_count": 0,
   "metadata": {
    "application/vnd.databricks.v1+cell": {
     "cellMetadata": {
      "byteLimit": 2048000,
      "implicitDf": true,
      "rowLimit": 10000
     },
     "collapsed": true,
     "inputWidgets": {},
     "nuid": "ba4f402a-4dba-47f2-a6b7-16db97ca13cb",
     "showTitle": true,
     "tableResultSettingsMap": {
      "0": {
       "dataGridStateBlob": "{\"version\":1,\"tableState\":{\"columnPinning\":{\"left\":[\"#row_number#\"],\"right\":[]},\"columnSizing\":{},\"columnVisibility\":{}},\"settings\":{\"columns\":{}},\"syncTimestamp\":1756597892759}",
       "filterBlob": null,
       "queryPlanFiltersBlob": null,
       "tableResultIndex": 0
      }
     },
     "title": "Quantidade de compra por cliente"
    }
   },
   "outputs": [],
   "source": [
    "%sql\n",
    "select\n",
    "  fk_contact,\n",
    "  place_destination_departure,\n",
    "  count(distinct nk_ota_localizer_id) as qtd,\n",
    "  sum(gmv_success) as gmv_success\n",
    "from\n",
    "  bus.gold.ota_bus_ticket_sales\n",
    "group by\n",
    "  all\n",
    "order by\n",
    "  qtd desc;"
   ]
  },
  {
   "cell_type": "markdown",
   "metadata": {
    "application/vnd.databricks.v1+cell": {
     "cellMetadata": {},
     "inputWidgets": {},
     "nuid": "57218165-7fe5-400b-be06-3032d8aeed85",
     "showTitle": false,
     "tableResultSettingsMap": {},
     "title": ""
    }
   },
   "source": [
    "## 📊 Análise dos Clusters de Clientes (Frequência x Gasto)\n",
    "\n",
    "### Resumo dos Perfis Identificados\n",
    "\n",
    "| Cluster | Perfil de Cliente | Características | Estratégia Recomendada |\n",
    "|---------|------------------|-----------------|------------------------|\n",
    "| 🔵 **Cluster 0** | Frequentes de Baixo/Médio Valor | ~7 compras em média, gasto total ~R$ 360, recência alta (~200 dias) | Monitorar churn → campanhas de reativação com descontos e ofertas simples |\n",
    "| 🟠 **Cluster 1** | Premium (Alta Frequência e Gasto) | ~13 compras, gasto médio mais alto (~R$ 470), recência baixa (~128 dias) | Fidelização → programas VIP, benefícios exclusivos e cross-sell |\n",
    "| 🟢 **Cluster 2** | Ex-Bons Clientes / Inativos | ~8 compras, gasto médio ~R$ 456, recência muito alta (~583 dias) | Recuperação → campanhas segmentadas, e-mails de “volte a viajar” |\n",
    "| 🔴 **Cluster 3** | Intermediários Ativos | ~8 compras, gasto médio ~R$ 467, recência baixa (~136 dias) | Estímulo de Crescimento → promoções personalizadas para aumentar frequência e ticket médio |\n",
    "\n",
    "---\n",
    "\n",
    "### ✅ Insight Final\n",
    "- O **Cluster 1 (Premium)** é o grupo mais valioso → prioridade para retenção.  \n",
    "- O **Cluster 2 (Inativos)** traz oportunidade de reativação → clientes já provaram valor.  \n",
    "- O **Cluster 0 (Frequentes de baixo gasto)** garantem volume, mas não receita → foco em upsell.  \n",
    "- O **Cluster 3 (Intermediários)** ainda ativos → grande potencial de evolução com incentivos.  \n"
   ]
  },
  {
   "cell_type": "code",
   "execution_count": 0,
   "metadata": {
    "application/vnd.databricks.v1+cell": {
     "cellMetadata": {
      "byteLimit": 2048000,
      "rowLimit": 10000
     },
     "collapsed": true,
     "inputWidgets": {},
     "nuid": "1529b529-57b6-4aed-8112-2796c0aa6c5d",
     "showTitle": true,
     "tableResultSettingsMap": {},
     "title": "Estatísticas por cliente"
    }
   },
   "outputs": [],
   "source": [
    "from pyspark.sql.functions import max, count, col, lit, datediff\n",
    "\n",
    "clientes = df_ota_bus_ticket_sales.groupBy(\"fk_contact\").agg(\n",
    "    max(\"gmv_success\").alias(\"total_gasto\"),\n",
    "    count(\"nk_ota_localizer_id\").alias(\"qtd_compras\"),\n",
    "    max(\"date_purchase\").alias(\"ultima_compra\")\n",
    ")\n",
    "\n",
    "max_date = df_ota_bus_ticket_sales.select(\n",
    "    max(\"date_purchase\")\n",
    ").collect()[0][0]\n",
    "\n",
    "clientes = clientes.withColumn(\n",
    "    \"recencia\",\n",
    "    datediff(\n",
    "        lit(max_date),\n",
    "        col(\"ultima_compra\")\n",
    "    )\n",
    ")\n",
    "\n",
    "rfm = clientes.select(\n",
    "    \"recencia\",\n",
    "    \"qtd_compras\",\n",
    "    \"total_gasto\"\n",
    ").toPandas()\n",
    "\n",
    "rfm_norm = (rfm - rfm.min()) / (rfm.max() - rfm.min())"
   ]
  },
  {
   "cell_type": "code",
   "execution_count": 0,
   "metadata": {
    "application/vnd.databricks.v1+cell": {
     "cellMetadata": {
      "byteLimit": 2048000,
      "rowLimit": 10000
     },
     "collapsed": true,
     "inputWidgets": {},
     "nuid": "8feb59ea-fdaa-48f9-b070-1927fb06ce7f",
     "showTitle": true,
     "tableResultSettingsMap": {
      "0": {
       "dataGridStateBlob": "{\"version\":1,\"tableState\":{\"columnPinning\":{\"left\":[\"#row_number#\"],\"right\":[]},\"columnSizing\":{},\"columnVisibility\":{}},\"settings\":{\"columns\":{}},\"syncTimestamp\":1756605858082}",
       "filterBlob": null,
       "queryPlanFiltersBlob": null,
       "tableResultIndex": 0
      }
     },
     "title": "Aplicação KMeans"
    }
   },
   "outputs": [],
   "source": [
    "kmeans = KMeans(n_clusters=4, random_state=42)\n",
    "rfm[\"cluster\"] = kmeans.fit_predict(rfm_norm)\n",
    "\n",
    "plt.figure(figsize=(10, 5))\n",
    "sns.scatterplot(data=rfm, x=\"qtd_compras\", y=\"total_gasto\", hue=\"cluster\", palette=\"tab10\")\n",
    "\n",
    "plt.title(\"Clusterização de Clientes (Frequência x Gasto)\")\n",
    "display(plt.gcf())\n",
    "plt.clf()\n",
    "\n",
    "rfm[\"fk_contact\"] = clientes.select(\"fk_contact\").toPandas()\n",
    "print(\"\\nResumo dos clusters:\")\n",
    "rfm_grouped = rfm.groupby(\"cluster\").agg({\n",
    "    \"qtd_compras\": \"mean\",\n",
    "    \"total_gasto\": \"mean\",\n",
    "    \"recencia\": \"mean\",\n",
    "    \"fk_contact\": \"count\"\n",
    "})\n",
    "display(rfm_grouped)"
   ]
  }
 ],
 "metadata": {
  "application/vnd.databricks.v1+notebook": {
   "computePreferences": {
    "hardware": {
     "accelerator": null,
     "gpuPoolId": null,
     "memory": null
    }
   },
   "dashboards": [],
   "environmentMetadata": {
    "base_environment": "",
    "environment_version": "3"
   },
   "inputWidgetPreferences": null,
   "language": "python",
   "notebookMetadata": {
    "mostRecentlyExecutedCommandWithImplicitDF": {
     "commandId": 4999457556372287,
     "dataframes": [
      "_sqldf"
     ]
    },
    "pythonIndentUnit": 4
   },
   "notebookName": "Entregaveis Oficiais",
   "widgets": {}
  },
  "language_info": {
   "name": "python"
  }
 },
 "nbformat": 4,
 "nbformat_minor": 0
}
